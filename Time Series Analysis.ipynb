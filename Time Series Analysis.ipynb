{
 "cells": [
  {
   "cell_type": "markdown",
   "metadata": {},
   "source": [
    "# Project description\n",
    "\n",
    "Sweet Lift Taxi company has collected historical data on taxi orders at airports. To attract more drivers during peak hours, we need to predict the amount of taxi orders for the next hour. Build a model for such a prediction.\n",
    "\n",
    "The RMSE metric on the test set should not be more than 48.\n",
    "\n",
    "## Project instructions\n",
    "\n",
    "1. Download the data and resample it by one hour.\n",
    "2. Analyze the data.\n",
    "3. Train different models with different hyperparameters. The test sample should be 10% of the initial dataset. \n",
    "4. Test the data using the test sample and provide a conclusion.\n",
    "\n",
    "## Data description\n",
    "\n",
    "The data is stored in file `taxi.csv`. The number of orders is in the '*num_orders*' column."
   ]
  },
  {
   "cell_type": "markdown",
   "metadata": {},
   "source": [
    "## Preparation"
   ]
  },
  {
   "cell_type": "code",
   "execution_count": 190,
   "metadata": {},
   "outputs": [],
   "source": [
    "import pandas as pd\n",
    "import numpy as np\n",
    "import matplotlib.pyplot as plt\n",
    "import seaborn as sns\n",
    "from sklearn.model_selection import train_test_split\n",
    "from sklearn.metrics import mean_squared_error\n",
    "from sklearn.linear_model import LinearRegression\n",
    "from sklearn.ensemble import RandomForestRegressor\n",
    "from statsmodels.tsa.arima.model import ARIMA\n",
    "from statsmodels.tsa.stattools import adfuller\n",
    "from statsmodels.tsa.seasonal import seasonal_decompose\n",
    "from pmdarima import auto_arima\n",
    "from statsmodels.graphics.tsaplots import plot_acf\n",
    "from statsmodels.graphics.tsaplots import plot_pacf\n",
    "import warnings\n",
    "import datetime\n",
    "warnings.filterwarnings(\"ignore\")"
   ]
  },
  {
   "cell_type": "code",
   "execution_count": 191,
   "metadata": {},
   "outputs": [],
   "source": [
    "df = pd.read_csv(\"/datasets/taxi.csv\", index_col=[0], parse_dates=[0])"
   ]
  },
  {
   "cell_type": "code",
   "execution_count": 192,
   "metadata": {},
   "outputs": [
    {
     "data": {
      "text/html": [
       "<div>\n",
       "<style scoped>\n",
       "    .dataframe tbody tr th:only-of-type {\n",
       "        vertical-align: middle;\n",
       "    }\n",
       "\n",
       "    .dataframe tbody tr th {\n",
       "        vertical-align: top;\n",
       "    }\n",
       "\n",
       "    .dataframe thead th {\n",
       "        text-align: right;\n",
       "    }\n",
       "</style>\n",
       "<table border=\"1\" class=\"dataframe\">\n",
       "  <thead>\n",
       "    <tr style=\"text-align: right;\">\n",
       "      <th></th>\n",
       "      <th>num_orders</th>\n",
       "    </tr>\n",
       "    <tr>\n",
       "      <th>datetime</th>\n",
       "      <th></th>\n",
       "    </tr>\n",
       "  </thead>\n",
       "  <tbody>\n",
       "    <tr>\n",
       "      <th>2018-03-01 00:00:00</th>\n",
       "      <td>9</td>\n",
       "    </tr>\n",
       "    <tr>\n",
       "      <th>2018-03-01 00:10:00</th>\n",
       "      <td>14</td>\n",
       "    </tr>\n",
       "    <tr>\n",
       "      <th>2018-03-01 00:20:00</th>\n",
       "      <td>28</td>\n",
       "    </tr>\n",
       "    <tr>\n",
       "      <th>2018-03-01 00:30:00</th>\n",
       "      <td>20</td>\n",
       "    </tr>\n",
       "    <tr>\n",
       "      <th>2018-03-01 00:40:00</th>\n",
       "      <td>32</td>\n",
       "    </tr>\n",
       "  </tbody>\n",
       "</table>\n",
       "</div>"
      ],
      "text/plain": [
       "                     num_orders\n",
       "datetime                       \n",
       "2018-03-01 00:00:00           9\n",
       "2018-03-01 00:10:00          14\n",
       "2018-03-01 00:20:00          28\n",
       "2018-03-01 00:30:00          20\n",
       "2018-03-01 00:40:00          32"
      ]
     },
     "execution_count": 192,
     "metadata": {},
     "output_type": "execute_result"
    }
   ],
   "source": [
    "df.head()"
   ]
  },
  {
   "cell_type": "code",
   "execution_count": 193,
   "metadata": {},
   "outputs": [
    {
     "name": "stdout",
     "output_type": "stream",
     "text": [
      "<class 'pandas.core.frame.DataFrame'>\n",
      "DatetimeIndex: 26496 entries, 2018-03-01 00:00:00 to 2018-08-31 23:50:00\n",
      "Data columns (total 1 columns):\n",
      " #   Column      Non-Null Count  Dtype\n",
      "---  ------      --------------  -----\n",
      " 0   num_orders  26496 non-null  int64\n",
      "dtypes: int64(1)\n",
      "memory usage: 414.0 KB\n"
     ]
    }
   ],
   "source": [
    "df.info()"
   ]
  },
  {
   "cell_type": "code",
   "execution_count": 194,
   "metadata": {},
   "outputs": [
    {
     "data": {
      "text/plain": [
       "Timestamp('2018-03-01 00:00:00')"
      ]
     },
     "execution_count": 194,
     "metadata": {},
     "output_type": "execute_result"
    }
   ],
   "source": [
    "df.index.min()"
   ]
  },
  {
   "cell_type": "code",
   "execution_count": 195,
   "metadata": {},
   "outputs": [
    {
     "data": {
      "text/plain": [
       "Timestamp('2018-08-31 23:50:00')"
      ]
     },
     "execution_count": 195,
     "metadata": {},
     "output_type": "execute_result"
    }
   ],
   "source": [
    "df.index.max()"
   ]
  },
  {
   "cell_type": "code",
   "execution_count": 196,
   "metadata": {},
   "outputs": [
    {
     "data": {
      "text/plain": [
       "(26496, 1)"
      ]
     },
     "execution_count": 196,
     "metadata": {},
     "output_type": "execute_result"
    }
   ],
   "source": [
    "df.shape"
   ]
  },
  {
   "cell_type": "code",
   "execution_count": 197,
   "metadata": {},
   "outputs": [
    {
     "data": {
      "text/plain": [
       "num_orders    0\n",
       "dtype: int64"
      ]
     },
     "execution_count": 197,
     "metadata": {},
     "output_type": "execute_result"
    }
   ],
   "source": [
    "df.isnull().sum()"
   ]
  },
  {
   "cell_type": "code",
   "execution_count": 198,
   "metadata": {},
   "outputs": [],
   "source": [
    "# resample data by hour\n",
    "hourly_df = df.resample('1H').sum()"
   ]
  },
  {
   "cell_type": "code",
   "execution_count": 199,
   "metadata": {},
   "outputs": [
    {
     "data": {
      "text/html": [
       "<div>\n",
       "<style scoped>\n",
       "    .dataframe tbody tr th:only-of-type {\n",
       "        vertical-align: middle;\n",
       "    }\n",
       "\n",
       "    .dataframe tbody tr th {\n",
       "        vertical-align: top;\n",
       "    }\n",
       "\n",
       "    .dataframe thead th {\n",
       "        text-align: right;\n",
       "    }\n",
       "</style>\n",
       "<table border=\"1\" class=\"dataframe\">\n",
       "  <thead>\n",
       "    <tr style=\"text-align: right;\">\n",
       "      <th></th>\n",
       "      <th>num_orders</th>\n",
       "    </tr>\n",
       "    <tr>\n",
       "      <th>datetime</th>\n",
       "      <th></th>\n",
       "    </tr>\n",
       "  </thead>\n",
       "  <tbody>\n",
       "    <tr>\n",
       "      <th>2018-03-01 00:00:00</th>\n",
       "      <td>124</td>\n",
       "    </tr>\n",
       "    <tr>\n",
       "      <th>2018-03-01 01:00:00</th>\n",
       "      <td>85</td>\n",
       "    </tr>\n",
       "    <tr>\n",
       "      <th>2018-03-01 02:00:00</th>\n",
       "      <td>71</td>\n",
       "    </tr>\n",
       "    <tr>\n",
       "      <th>2018-03-01 03:00:00</th>\n",
       "      <td>66</td>\n",
       "    </tr>\n",
       "    <tr>\n",
       "      <th>2018-03-01 04:00:00</th>\n",
       "      <td>43</td>\n",
       "    </tr>\n",
       "  </tbody>\n",
       "</table>\n",
       "</div>"
      ],
      "text/plain": [
       "                     num_orders\n",
       "datetime                       \n",
       "2018-03-01 00:00:00         124\n",
       "2018-03-01 01:00:00          85\n",
       "2018-03-01 02:00:00          71\n",
       "2018-03-01 03:00:00          66\n",
       "2018-03-01 04:00:00          43"
      ]
     },
     "execution_count": 199,
     "metadata": {},
     "output_type": "execute_result"
    }
   ],
   "source": [
    "hourly_df.head()"
   ]
  },
  {
   "cell_type": "code",
   "execution_count": 200,
   "metadata": {},
   "outputs": [
    {
     "data": {
      "text/plain": [
       "(4416, 1)"
      ]
     },
     "execution_count": 200,
     "metadata": {},
     "output_type": "execute_result"
    }
   ],
   "source": [
    "hourly_df.shape"
   ]
  },
  {
   "cell_type": "code",
   "execution_count": 201,
   "metadata": {},
   "outputs": [
    {
     "data": {
      "text/plain": [
       "num_orders    0\n",
       "dtype: int64"
      ]
     },
     "execution_count": 201,
     "metadata": {},
     "output_type": "execute_result"
    }
   ],
   "source": [
    "hourly_df.isnull().sum()"
   ]
  },
  {
   "cell_type": "markdown",
   "metadata": {},
   "source": [
    "Our raw dataset includes 26,496 rows of data from 12:00 AM March 1, 2018 through 11:50 PM August 31, 2018 so we have exactly 6 months of data to use for our time series analysis. \n",
    "\n",
    "After resampling the data by the hour, we have 4,416 rows of data and no missing values."
   ]
  },
  {
   "cell_type": "markdown",
   "metadata": {},
   "source": [
    "## Analysis"
   ]
  },
  {
   "cell_type": "code",
   "execution_count": 202,
   "metadata": {},
   "outputs": [
    {
     "data": {
      "image/png": "[encoded data removed]",
      "text/plain": [
       "<Figure size 1000x500 with 1 Axes>"
      ]
     },
     "metadata": {},
     "output_type": "display_data"
    }
   ],
   "source": [
    "# Plot hourly taxi orders for full dataset\n",
    "plt.figure(figsize=(10, 5))\n",
    "plt.plot(hourly_df, label='Hourly Orders')\n",
    "plt.title('Hourly Taxi Orders')\n",
    "plt.xlabel('Datetime')\n",
    "plt.ylabel('Number of Orders')\n",
    "plt.legend()\n",
    "plt.show()"
   ]
  },
  {
   "cell_type": "markdown",
   "metadata": {},
   "source": [
    "From our initial look at our data, we can see that we have a positive trend of taxi orders over the 6 month time span. Possibly some seasonality with spikes on certain days. We'll take a closer look below."
   ]
  },
  {
   "cell_type": "markdown",
   "metadata": {},
   "source": [
    "Now we'll take a look at seasonality and trends by day."
   ]
  },
  {
   "cell_type": "code",
   "execution_count": 203,
   "metadata": {},
   "outputs": [
    {
     "data": {
      "text/plain": [
       "Text(0.5, 1.0, 'Trend')"
      ]
     },
     "execution_count": 203,
     "metadata": {},
     "output_type": "execute_result"
    },
    {
     "data": {
      "image/png": "[encoded data removed]",
      "text/plain": [
       "<Figure size 1500x1000 with 1 Axes>"
      ]
     },
     "metadata": {},
     "output_type": "display_data"
    }
   ],
   "source": [
    "decomposed = seasonal_decompose(hourly_df, 'additive', period=24)\n",
    "\n",
    "plt.figure(figsize=(6,8))\n",
    "plt.subplot(311)\n",
    "decomposed.trend.plot(ax=plt.gca(), figsize=(15, 10))\n",
    "plt.title('Trend')"
   ]
  },
  {
   "cell_type": "code",
   "execution_count": 204,
   "metadata": {},
   "outputs": [
    {
     "data": {
      "text/plain": [
       "Text(0.5, 1.0, 'Seasonal')"
      ]
     },
     "execution_count": 204,
     "metadata": {},
     "output_type": "execute_result"
    },
    {
     "data": {
      "image/png": "[encoded data removed]",
      "text/plain": [
       "<Figure size 640x480 with 1 Axes>"
      ]
     },
     "metadata": {},
     "output_type": "display_data"
    }
   ],
   "source": [
    "plt.subplot(312)\n",
    "plt.plot(decomposed.seasonal)\n",
    "plt.title('Seasonal')"
   ]
  },
  {
   "cell_type": "markdown",
   "metadata": {},
   "source": [
    "We see some seasonality here with the repeating pattern which we'll take a closer look at below."
   ]
  },
  {
   "cell_type": "code",
   "execution_count": 205,
   "metadata": {},
   "outputs": [
    {
     "data": {
      "text/plain": [
       "Text(0.5, 1.0, 'Residual')"
      ]
     },
     "execution_count": 205,
     "metadata": {},
     "output_type": "execute_result"
    },
    {
     "data": {
      "image/png": "[encoded data removed]",
      "text/plain": [
       "<Figure size 640x480 with 1 Axes>"
      ]
     },
     "metadata": {},
     "output_type": "display_data"
    }
   ],
   "source": [
    "plt.subplot(313)\n",
    "plt.plot(decomposed.resid)\n",
    "plt.title('Residual')"
   ]
  },
  {
   "cell_type": "markdown",
   "metadata": {},
   "source": [
    "Here are the residuals which is just the noise of the data that we can't do anything with. It is what is leftover after we take the trend and seasonality from our original time series graph."
   ]
  },
  {
   "cell_type": "markdown",
   "metadata": {},
   "source": [
    "Now we'll take a closer look at our seasonal pattern in a 24 hour period."
   ]
  },
  {
   "cell_type": "code",
   "execution_count": 206,
   "metadata": {},
   "outputs": [],
   "source": [
    "# create half hour labels for 24 hour period\n",
    "half_hour_labels = [f\"{hour:02}:{minute:02}\" for hour in range(24) for minute in (0, 30)]\n"
   ]
  },
  {
   "cell_type": "code",
   "execution_count": 207,
   "metadata": {},
   "outputs": [
    {
     "data": {
      "image/png": "[encoded data removed]",
      "text/plain": [
       "<Figure size 1200x1000 with 1 Axes>"
      ]
     },
     "metadata": {},
     "output_type": "display_data"
    }
   ],
   "source": [
    "plt.figure(figsize=(12,10))\n",
    "plt.plot(half_hour_labels, decomposed.seasonal[24:72], marker='o')\n",
    "plt.title('Seasonal (Full Day)')\n",
    "plt.xticks(rotation=45);"
   ]
  },
  {
   "cell_type": "markdown",
   "metadata": {},
   "source": [
    "We can see a seasonal trend where the number of taxi orders drastically decrease between 2:30 and 3:00 AM and also 2:30 - 3:00 PM. They peak at 12:00 AM and 12:00 PM."
   ]
  },
  {
   "cell_type": "code",
   "execution_count": 208,
   "metadata": {},
   "outputs": [
    {
     "data": {
      "image/png": "[encoded data removed]",
      "text/plain": [
       "<Figure size 1200x600 with 1 Axes>"
      ]
     },
     "metadata": {},
     "output_type": "display_data"
    }
   ],
   "source": [
    "hourly_df['rolling_mean'] = hourly_df.rolling(24).mean()\n",
    "hourly_df.plot(figsize=(12, 6))\n",
    "plt.title('Hourly Data with 24 Hour Rolling Mean')\n",
    "plt.show()"
   ]
  },
  {
   "cell_type": "markdown",
   "metadata": {},
   "source": [
    "We were able to reduce some of the noise by using the rolling mean and looking at a window size of 24 to help visualize the pattern over a 24 hour period. Since our mean changes, this suggests that our data is nonstationary and our mean is increasing over the months. "
   ]
  },
  {
   "cell_type": "markdown",
   "metadata": {},
   "source": [
    "## Training"
   ]
  },
  {
   "cell_type": "code",
   "execution_count": 209,
   "metadata": {},
   "outputs": [
    {
     "name": "stdout",
     "output_type": "stream",
     "text": [
      "<class 'pandas.core.frame.DataFrame'>\n"
     ]
    }
   ],
   "source": [
    "# check that our hourly_df is a DataFrame and not a Series\n",
    "print(type(hourly_df))"
   ]
  },
  {
   "cell_type": "code",
   "execution_count": 210,
   "metadata": {},
   "outputs": [],
   "source": [
    "# create features for modeling. \n",
    "\n",
    "def make_features(hourly_df, max_lag, rolling_mean_size):\n",
    "    hourly_df['year'] = hourly_df.index.year\n",
    "    hourly_df['month'] = hourly_df.index.month\n",
    "    hourly_df['day'] = hourly_df.index.day\n",
    "    hourly_df['dayofweek'] = hourly_df.index.dayofweek\n",
    "    hourly_df['hour'] = hourly_df.index.hour\n",
    "    hourly_df['is_weekend'] = (hourly_df.index.dayofweek >= 5).astype(int)\n",
    "    \n",
    "    for lag in range(1, max_lag + 1):\n",
    "        hourly_df['lag_{}'.format(lag)] = hourly_df['num_orders'].shift(lag)\n",
    "\n",
    "    for window in rolling_mean_size:\n",
    "        hourly_df['rolling_mean_{}'.format(window)] = hourly_df['num_orders'].shift(1).rolling(window=window).mean()\n",
    "    \n",
    "make_features(hourly_df, max_lag=22, rolling_mean_size=[1, 3, 6, 12])"
   ]
  },
  {
   "cell_type": "markdown",
   "metadata": {},
   "source": [
    "Since our data is trending upwards over the time series and our test data set has a higher mean than the training and validation sets, we'll use multiple window sizes for the rolling mean to help capture short term and long term trends."
   ]
  },
  {
   "cell_type": "code",
   "execution_count": 211,
   "metadata": {},
   "outputs": [
    {
     "data": {
      "text/plain": [
       "(4416, 34)"
      ]
     },
     "execution_count": 211,
     "metadata": {},
     "output_type": "execute_result"
    }
   ],
   "source": [
    "hourly_df.shape"
   ]
  },
  {
   "cell_type": "code",
   "execution_count": 212,
   "metadata": {},
   "outputs": [
    {
     "data": {
      "text/html": [
       "<div>\n",
       "<style scoped>\n",
       "    .dataframe tbody tr th:only-of-type {\n",
       "        vertical-align: middle;\n",
       "    }\n",
       "\n",
       "    .dataframe tbody tr th {\n",
       "        vertical-align: top;\n",
       "    }\n",
       "\n",
       "    .dataframe thead th {\n",
       "        text-align: right;\n",
       "    }\n",
       "</style>\n",
       "<table border=\"1\" class=\"dataframe\">\n",
       "  <thead>\n",
       "    <tr style=\"text-align: right;\">\n",
       "      <th></th>\n",
       "      <th>num_orders</th>\n",
       "      <th>rolling_mean</th>\n",
       "      <th>year</th>\n",
       "      <th>month</th>\n",
       "      <th>day</th>\n",
       "      <th>dayofweek</th>\n",
       "      <th>hour</th>\n",
       "      <th>is_weekend</th>\n",
       "      <th>lag_1</th>\n",
       "      <th>lag_2</th>\n",
       "      <th>...</th>\n",
       "      <th>lag_17</th>\n",
       "      <th>lag_18</th>\n",
       "      <th>lag_19</th>\n",
       "      <th>lag_20</th>\n",
       "      <th>lag_21</th>\n",
       "      <th>lag_22</th>\n",
       "      <th>rolling_mean_1</th>\n",
       "      <th>rolling_mean_3</th>\n",
       "      <th>rolling_mean_6</th>\n",
       "      <th>rolling_mean_12</th>\n",
       "    </tr>\n",
       "    <tr>\n",
       "      <th>datetime</th>\n",
       "      <th></th>\n",
       "      <th></th>\n",
       "      <th></th>\n",
       "      <th></th>\n",
       "      <th></th>\n",
       "      <th></th>\n",
       "      <th></th>\n",
       "      <th></th>\n",
       "      <th></th>\n",
       "      <th></th>\n",
       "      <th></th>\n",
       "      <th></th>\n",
       "      <th></th>\n",
       "      <th></th>\n",
       "      <th></th>\n",
       "      <th></th>\n",
       "      <th></th>\n",
       "      <th></th>\n",
       "      <th></th>\n",
       "      <th></th>\n",
       "      <th></th>\n",
       "    </tr>\n",
       "  </thead>\n",
       "  <tbody>\n",
       "    <tr>\n",
       "      <th>2018-03-01 00:00:00</th>\n",
       "      <td>124</td>\n",
       "      <td>NaN</td>\n",
       "      <td>2018</td>\n",
       "      <td>3</td>\n",
       "      <td>1</td>\n",
       "      <td>3</td>\n",
       "      <td>0</td>\n",
       "      <td>0</td>\n",
       "      <td>NaN</td>\n",
       "      <td>NaN</td>\n",
       "      <td>...</td>\n",
       "      <td>NaN</td>\n",
       "      <td>NaN</td>\n",
       "      <td>NaN</td>\n",
       "      <td>NaN</td>\n",
       "      <td>NaN</td>\n",
       "      <td>NaN</td>\n",
       "      <td>NaN</td>\n",
       "      <td>NaN</td>\n",
       "      <td>NaN</td>\n",
       "      <td>NaN</td>\n",
       "    </tr>\n",
       "    <tr>\n",
       "      <th>2018-03-01 01:00:00</th>\n",
       "      <td>85</td>\n",
       "      <td>NaN</td>\n",
       "      <td>2018</td>\n",
       "      <td>3</td>\n",
       "      <td>1</td>\n",
       "      <td>3</td>\n",
       "      <td>1</td>\n",
       "      <td>0</td>\n",
       "      <td>124.0</td>\n",
       "      <td>NaN</td>\n",
       "      <td>...</td>\n",
       "      <td>NaN</td>\n",
       "      <td>NaN</td>\n",
       "      <td>NaN</td>\n",
       "      <td>NaN</td>\n",
       "      <td>NaN</td>\n",
       "      <td>NaN</td>\n",
       "      <td>124.0</td>\n",
       "      <td>NaN</td>\n",
       "      <td>NaN</td>\n",
       "      <td>NaN</td>\n",
       "    </tr>\n",
       "    <tr>\n",
       "      <th>2018-03-01 02:00:00</th>\n",
       "      <td>71</td>\n",
       "      <td>NaN</td>\n",
       "      <td>2018</td>\n",
       "      <td>3</td>\n",
       "      <td>1</td>\n",
       "      <td>3</td>\n",
       "      <td>2</td>\n",
       "      <td>0</td>\n",
       "      <td>85.0</td>\n",
       "      <td>124.0</td>\n",
       "      <td>...</td>\n",
       "      <td>NaN</td>\n",
       "      <td>NaN</td>\n",
       "      <td>NaN</td>\n",
       "      <td>NaN</td>\n",
       "      <td>NaN</td>\n",
       "      <td>NaN</td>\n",
       "      <td>85.0</td>\n",
       "      <td>NaN</td>\n",
       "      <td>NaN</td>\n",
       "      <td>NaN</td>\n",
       "    </tr>\n",
       "    <tr>\n",
       "      <th>2018-03-01 03:00:00</th>\n",
       "      <td>66</td>\n",
       "      <td>NaN</td>\n",
       "      <td>2018</td>\n",
       "      <td>3</td>\n",
       "      <td>1</td>\n",
       "      <td>3</td>\n",
       "      <td>3</td>\n",
       "      <td>0</td>\n",
       "      <td>71.0</td>\n",
       "      <td>85.0</td>\n",
       "      <td>...</td>\n",
       "      <td>NaN</td>\n",
       "      <td>NaN</td>\n",
       "      <td>NaN</td>\n",
       "      <td>NaN</td>\n",
       "      <td>NaN</td>\n",
       "      <td>NaN</td>\n",
       "      <td>71.0</td>\n",
       "      <td>93.333333</td>\n",
       "      <td>NaN</td>\n",
       "      <td>NaN</td>\n",
       "    </tr>\n",
       "    <tr>\n",
       "      <th>2018-03-01 04:00:00</th>\n",
       "      <td>43</td>\n",
       "      <td>NaN</td>\n",
       "      <td>2018</td>\n",
       "      <td>3</td>\n",
       "      <td>1</td>\n",
       "      <td>3</td>\n",
       "      <td>4</td>\n",
       "      <td>0</td>\n",
       "      <td>66.0</td>\n",
       "      <td>71.0</td>\n",
       "      <td>...</td>\n",
       "      <td>NaN</td>\n",
       "      <td>NaN</td>\n",
       "      <td>NaN</td>\n",
       "      <td>NaN</td>\n",
       "      <td>NaN</td>\n",
       "      <td>NaN</td>\n",
       "      <td>66.0</td>\n",
       "      <td>74.000000</td>\n",
       "      <td>NaN</td>\n",
       "      <td>NaN</td>\n",
       "    </tr>\n",
       "  </tbody>\n",
       "</table>\n",
       "<p>5 rows × 34 columns</p>\n",
       "</div>"
      ],
      "text/plain": [
       "                     num_orders  rolling_mean  year  month  day  dayofweek  \\\n",
       "datetime                                                                     \n",
       "2018-03-01 00:00:00         124           NaN  2018      3    1          3   \n",
       "2018-03-01 01:00:00          85           NaN  2018      3    1          3   \n",
       "2018-03-01 02:00:00          71           NaN  2018      3    1          3   \n",
       "2018-03-01 03:00:00          66           NaN  2018      3    1          3   \n",
       "2018-03-01 04:00:00          43           NaN  2018      3    1          3   \n",
       "\n",
       "                     hour  is_weekend  lag_1  lag_2  ...  lag_17  lag_18  \\\n",
       "datetime                                             ...                   \n",
       "2018-03-01 00:00:00     0           0    NaN    NaN  ...     NaN     NaN   \n",
       "2018-03-01 01:00:00     1           0  124.0    NaN  ...     NaN     NaN   \n",
       "2018-03-01 02:00:00     2           0   85.0  124.0  ...     NaN     NaN   \n",
       "2018-03-01 03:00:00     3           0   71.0   85.0  ...     NaN     NaN   \n",
       "2018-03-01 04:00:00     4           0   66.0   71.0  ...     NaN     NaN   \n",
       "\n",
       "                     lag_19  lag_20  lag_21  lag_22  rolling_mean_1  \\\n",
       "datetime                                                              \n",
       "2018-03-01 00:00:00     NaN     NaN     NaN     NaN             NaN   \n",
       "2018-03-01 01:00:00     NaN     NaN     NaN     NaN           124.0   \n",
       "2018-03-01 02:00:00     NaN     NaN     NaN     NaN            85.0   \n",
       "2018-03-01 03:00:00     NaN     NaN     NaN     NaN            71.0   \n",
       "2018-03-01 04:00:00     NaN     NaN     NaN     NaN            66.0   \n",
       "\n",
       "                     rolling_mean_3  rolling_mean_6  rolling_mean_12  \n",
       "datetime                                                              \n",
       "2018-03-01 00:00:00             NaN             NaN              NaN  \n",
       "2018-03-01 01:00:00             NaN             NaN              NaN  \n",
       "2018-03-01 02:00:00             NaN             NaN              NaN  \n",
       "2018-03-01 03:00:00       93.333333             NaN              NaN  \n",
       "2018-03-01 04:00:00       74.000000             NaN              NaN  \n",
       "\n",
       "[5 rows x 34 columns]"
      ]
     },
     "execution_count": 212,
     "metadata": {},
     "output_type": "execute_result"
    }
   ],
   "source": [
    "hourly_df.head()"
   ]
  },
  {
   "cell_type": "code",
   "execution_count": 213,
   "metadata": {},
   "outputs": [],
   "source": [
    "# drop missing values created by lag features\n",
    "hourly_df = hourly_df.dropna()"
   ]
  },
  {
   "cell_type": "code",
   "execution_count": 214,
   "metadata": {},
   "outputs": [
    {
     "data": {
      "text/plain": [
       "(4393, 34)"
      ]
     },
     "execution_count": 214,
     "metadata": {},
     "output_type": "execute_result"
    }
   ],
   "source": [
    "hourly_df.shape"
   ]
  },
  {
   "cell_type": "code",
   "execution_count": 215,
   "metadata": {},
   "outputs": [],
   "source": [
    "# split data into training, validation, and test sets\n",
    "test_size = 0.1\n",
    "\n",
    "train_valid, test = train_test_split(hourly_df, shuffle=False, test_size=test_size)\n",
    "\n",
    "valid_size = test_size / (1 - test_size)\n",
    "\n",
    "train, valid = train_test_split(train_valid, shuffle=False, test_size=valid_size)"
   ]
  },
  {
   "cell_type": "code",
   "execution_count": 216,
   "metadata": {},
   "outputs": [
    {
     "name": "stdout",
     "output_type": "stream",
     "text": [
      "Training set size: (3513, 34)\n",
      "Validation set size: (440, 34)\n",
      "Test set size: (440, 34)\n"
     ]
    }
   ],
   "source": [
    "print(f\"Training set size: {train.shape}\")\n",
    "print(f\"Validation set size: {valid.shape}\")\n",
    "print(f\"Test set size: {test.shape}\")"
   ]
  },
  {
   "cell_type": "code",
   "execution_count": 217,
   "metadata": {},
   "outputs": [
    {
     "name": "stdout",
     "output_type": "stream",
     "text": [
      "2018-03-01 23:00:00 2018-07-26 07:00:00\n",
      "2018-07-26 08:00:00 2018-08-13 15:00:00\n",
      "2018-08-13 16:00:00 2018-08-31 23:00:00\n",
      "\n",
      "Original dataset size: (4393, 34)\n",
      "Training+Validation set size: (3953, 34)\n",
      "Training set size: (3513, 34)\n",
      "Validation set size: (440, 34)\n",
      "Test set size: (440, 34)\n"
     ]
    }
   ],
   "source": [
    "# Check splits\n",
    "print(train.index.min(), train.index.max())\n",
    "print(valid.index.min(), valid.index.max())\n",
    "print(test.index.min(), test.index.max())\n",
    "\n",
    "print()\n",
    "\n",
    "print(f\"Original dataset size: {hourly_df.shape}\")\n",
    "print(f\"Training+Validation set size: {train_valid.shape}\")\n",
    "print(f\"Training set size: {train.shape}\")\n",
    "print(f\"Validation set size: {valid.shape}\")\n",
    "print(f\"Test set size: {test.shape}\")"
   ]
  },
  {
   "cell_type": "code",
   "execution_count": 218,
   "metadata": {},
   "outputs": [],
   "source": [
    "# declare feature and target variables\n",
    "features_train = train.drop(['num_orders'], axis=1)\n",
    "target_train = train['num_orders']\n",
    "features_valid = valid.drop(['num_orders'], axis=1)\n",
    "target_valid = valid['num_orders']\n",
    "features_test = test.drop(['num_orders'], axis=1)\n",
    "target_test = test['num_orders']"
   ]
  },
  {
   "cell_type": "code",
   "execution_count": 219,
   "metadata": {},
   "outputs": [],
   "source": [
    "# function to calculate rmse\n",
    "\n",
    "def rmse(true, pred):\n",
    "    return mean_squared_error(true, pred)**0.5"
   ]
  },
  {
   "cell_type": "code",
   "execution_count": 220,
   "metadata": {},
   "outputs": [
    {
     "name": "stdout",
     "output_type": "stream",
     "text": [
      "Median hourly taxi orders: 72.0\n",
      "RMSE (Median Prediction): 89.45454660938654\n",
      "RMSE (Naive Forecasting): 59.07568335310531\n",
      "Percentage Error Rate (Median Prediction): 64.09692788791193\n",
      "Percentage Error Rate (Naive Forecasting): 42.32954007746078\n"
     ]
    }
   ],
   "source": [
    "# Use Median prediction and naive forecasting as baseline for sanity checking models\n",
    "\n",
    "from sklearn.metrics import mean_absolute_error\n",
    "\n",
    "# Sanity Check: Median Prediction\n",
    "median_value = target_train.median()\n",
    "print('Median hourly taxi orders:', median_value)\n",
    "pred_median = np.full(target_test.shape, median_value)\n",
    "rmse_median = rmse(target_test, pred_median)\n",
    "print('RMSE (Median Prediction):', rmse_median)\n",
    "\n",
    "\n",
    "# Sanity Check: Naive Forecasting\n",
    "pred_previous = target_test.copy()\n",
    "pred_previous.iloc[0] = target_train.iloc[-1] # Set the first prediction to the last value of y_train\n",
    "pred_previous[1:] = target_test[:-1] # Use previous values for predictions\n",
    "\n",
    "rmse_naive = rmse(target_test, pred_previous)\n",
    "print(\"RMSE (Naive Forecasting):\", rmse_naive)\n",
    "\n",
    "\n",
    "# Calculate the average of actual values\n",
    "average_actual = target_test.mean()\n",
    "\n",
    "# Calculate percentage error rates\n",
    "percentage_error_rate_median = (rmse_median / average_actual) * 100\n",
    "percentage_error_rate_naive = (rmse_naive / average_actual) * 100\n",
    "\n",
    "print('Percentage Error Rate (Median Prediction):', percentage_error_rate_median)\n",
    "print('Percentage Error Rate (Naive Forecasting):', percentage_error_rate_naive)"
   ]
  },
  {
   "cell_type": "markdown",
   "metadata": {},
   "source": [
    "We have the median hourly taxi orders for our training set as 72 orders. Based off of just predicting the next hours orders, we get a RMSE of 89.45 and a percentage error rate of 64%. The high percentage error rate tells us that the prediction may be far off from the actual values.\n",
    "\n",
    "<br>\n",
    "\n",
    "As for the naive forecasting, we have a lower RMSE of 59.08 with a percentage error rate of 42%. This tells us that using previous predictions will be more accurate than simply predicting alone. We expect our models using previous taxi order predictions to be much more accurate than our naive forecasting. "
   ]
  },
  {
   "cell_type": "markdown",
   "metadata": {},
   "source": [
    "**Linear Regression**"
   ]
  },
  {
   "cell_type": "code",
   "execution_count": 221,
   "metadata": {},
   "outputs": [
    {
     "name": "stdout",
     "output_type": "stream",
     "text": [
      "LR RMSE on training set: 16.77727489497371\n",
      "LR RMSE on validation set: 22.274358806551554\n",
      "\n",
      "Percentage Error Rate (Train): 22.545373651047978\n",
      "Percentage Error Rate (Valid): 20.134599956616576\n"
     ]
    }
   ],
   "source": [
    "# train linear regression model\n",
    "lr = LinearRegression()\n",
    "lr.fit(features_train, target_train)\n",
    "\n",
    "pred_train = lr.predict(features_train)\n",
    "pred_valid = lr.predict(features_valid)\n",
    "\n",
    "rmse_train = rmse(target_train, pred_train)\n",
    "rmse_valid = rmse(target_valid, pred_valid)\n",
    "\n",
    "print(\"LR RMSE on training set:\", rmse_train)\n",
    "print(\"LR RMSE on validation set:\", rmse_valid)\n",
    "\n",
    "print()\n",
    "\n",
    "# Calculate average actual values for train and valid sets\n",
    "average_actual_train = target_train.mean()\n",
    "average_actual_valid = target_valid.mean()\n",
    "\n",
    "# Calculate percentage error rates\n",
    "percentage_error_rate_train = (rmse_train / average_actual_train) * 100\n",
    "percentage_error_rate_valid = (rmse_valid / average_actual_valid) * 100\n",
    "\n",
    "print('Percentage Error Rate (Train):', percentage_error_rate_train)\n",
    "print('Percentage Error Rate (Valid):', percentage_error_rate_valid)"
   ]
  },
  {
   "cell_type": "markdown",
   "metadata": {},
   "source": [
    "**Observation** Our LinearRegression model performs better than our naive forecasting on both the training and validation sets with much lower RMSE values and percentage error rates. A higher RMSE on the validation set suggests that the model might not generalize perfectly on unseen data but it's performance is still within acceptable range."
   ]
  },
  {
   "cell_type": "markdown",
   "metadata": {},
   "source": [
    "**Random Forest**"
   ]
  },
  {
   "cell_type": "code",
   "execution_count": 222,
   "metadata": {},
   "outputs": [
    {
     "name": "stdout",
     "output_type": "stream",
     "text": [
      "RF RMSE train: 12.447454158704577\n",
      "RF RMSE Valid: 34.52593447707319\n",
      "\n",
      "Percentage Error Rate (Train): 16.72694205519397\n",
      "Percentage Error Rate (Valid): 31.209243097033866\n"
     ]
    }
   ],
   "source": [
    "# train Random Forest Model\n",
    "rf = RandomForestRegressor(n_estimators=3, random_state=54321)\n",
    "\n",
    "rf.fit(features_train, target_train)\n",
    "rf_pred_train = rf.predict(features_train)\n",
    "rf_pred_valid = rf.predict(features_valid)\n",
    "\n",
    "\n",
    "# Calculate RMSE\n",
    "rf_rmse_train = rmse(target_train, rf_pred_train)\n",
    "rf_rmse_valid = rmse(target_valid, rf_pred_valid)\n",
    "\n",
    "\n",
    "print(\"RF RMSE train:\", rf_rmse_train)\n",
    "print(\"RF RMSE Valid:\", rf_rmse_valid)\n",
    "\n",
    "print()\n",
    "\n",
    "# Calculate average actual values for train and valid sets\n",
    "average_actual_train = target_train.mean()\n",
    "average_actual_valid = target_valid.mean()\n",
    "\n",
    "# Calculate percentage error rates\n",
    "percentage_error_rate_train = (rf_rmse_train / average_actual_train) * 100\n",
    "percentage_error_rate_valid = (rf_rmse_valid / average_actual_valid) * 100\n",
    "\n",
    "print('Percentage Error Rate (Train):', percentage_error_rate_train)\n",
    "print('Percentage Error Rate (Valid):', percentage_error_rate_valid)"
   ]
  },
  {
   "cell_type": "markdown",
   "metadata": {},
   "source": [
    "The RMSE on the training set came back lower than our Linear Regression model, however, it is high on the validation set. This suggest overfitting of the model. We'd rather not have an overfitted model, so Linear Regression is still best for this data."
   ]
  },
  {
   "cell_type": "code",
   "execution_count": 223,
   "metadata": {},
   "outputs": [
    {
     "name": "stdout",
     "output_type": "stream",
     "text": [
      "DT RMSE train: 16.41638343741985\n",
      "DT RMSE Valid: 35.16459503359195\n",
      "\n",
      "Percentage Error Rate (Train): 22.060406169203787\n",
      "Percentage Error Rate (Valid): 31.786551513642163\n"
     ]
    }
   ],
   "source": [
    "from sklearn.tree import DecisionTreeRegressor\n",
    "\n",
    "dt = DecisionTreeRegressor(random_state=54321, max_depth=10, min_samples_leaf=5)\n",
    "dt.fit(features_train, target_train)\n",
    "\n",
    "dt_pred_train = dt.predict(features_train)\n",
    "dt_pred_valid = dt.predict(features_valid)\n",
    "\n",
    "dt_rmse_train = rmse(target_train, dt_pred_train)\n",
    "dt_rmse_valid = rmse(target_valid, dt_pred_valid)\n",
    "\n",
    "print(\"DT RMSE train:\", dt_rmse_train)\n",
    "print(\"DT RMSE Valid:\", dt_rmse_valid)\n",
    "\n",
    "print()\n",
    "\n",
    "# Calculate average actual values for train and valid sets\n",
    "average_actual_train = target_train.mean()\n",
    "average_actual_valid = target_valid.mean()\n",
    "\n",
    "# Calculate percentage error rates\n",
    "percentage_error_rate_train = (dt_rmse_train / average_actual_train) * 100\n",
    "percentage_error_rate_valid = (dt_rmse_valid / average_actual_valid) * 100\n",
    "\n",
    "print('Percentage Error Rate (Train):', percentage_error_rate_train)\n",
    "print('Percentage Error Rate (Valid):', percentage_error_rate_valid)"
   ]
  },
  {
   "cell_type": "markdown",
   "metadata": {},
   "source": [
    "The results of the Decision Tree are okay but still suggest overfitting. Especially after a trial run with no parameter tuning, the model made perfect predictions which is an overfitted model. "
   ]
  },
  {
   "cell_type": "markdown",
   "metadata": {},
   "source": [
    "## Grid Search"
   ]
  },
  {
   "cell_type": "code",
   "execution_count": 224,
   "metadata": {},
   "outputs": [
    {
     "name": "stdout",
     "output_type": "stream",
     "text": [
      "Best parameters found: {'max_depth': 15, 'min_samples_split': 2, 'n_estimators': 50}\n",
      "Tuned RF RMSE on validation set: 31.228901072437058\n"
     ]
    }
   ],
   "source": [
    "from sklearn.model_selection import TimeSeriesSplit, GridSearchCV\n",
    "\n",
    "brf = RandomForestRegressor(random_state=54321)\n",
    "\n",
    "param_grid = {\n",
    "    'n_estimators': [10, 25, 50],\n",
    "    'max_depth': [5, 10, 15],\n",
    "    'min_samples_split': [2, 3, 10]\n",
    "    \n",
    "}\n",
    "\n",
    "tscv = TimeSeriesSplit(n_splits=5)\n",
    "\n",
    "grid_search = GridSearchCV(estimator=brf, param_grid=param_grid, cv=tscv, scoring='neg_root_mean_squared_error')\n",
    "\n",
    "grid_search.fit(features_train, target_train)\n",
    "\n",
    "best_rf = grid_search.best_estimator_\n",
    "\n",
    "print(\"Best parameters found:\", grid_search.best_params_)\n",
    "\n",
    "pred_valid = best_rf.predict(features_valid)\n",
    "rmse_valid = rmse(target_valid, pred_valid)\n",
    "\n",
    "print(\"Tuned RF RMSE on validation set:\", rmse_valid)"
   ]
  },
  {
   "cell_type": "markdown",
   "metadata": {},
   "source": [
    "## Testing"
   ]
  },
  {
   "cell_type": "code",
   "execution_count": 225,
   "metadata": {},
   "outputs": [
    {
     "name": "stdout",
     "output_type": "stream",
     "text": [
      "LR RMSE on test set: 27.131307519082334\n",
      "\n",
      "Percentage Error Rate (Test): 19.44041446153733\n"
     ]
    }
   ],
   "source": [
    "# Linear Regression Test Data\n",
    "lr_pred_test = lr.predict(features_test)\n",
    "lr_rmse_test = rmse(target_test, lr_pred_test)\n",
    "print(\"LR RMSE on test set:\", lr_rmse_test)\n",
    "\n",
    "print()\n",
    "\n",
    "average_actual_test = target_test.mean()\n",
    "percentage_error_rate_test = (lr_rmse_test / average_actual_test) * 100\n",
    "print('Percentage Error Rate (Test):', percentage_error_rate_test)"
   ]
  },
  {
   "cell_type": "code",
   "execution_count": 226,
   "metadata": {},
   "outputs": [
    {
     "name": "stdout",
     "output_type": "stream",
     "text": [
      "RF RMSE on test set: 58.7642589616608\n",
      "\n",
      "Percentage Error Rate (Test): 42.106394943786135\n"
     ]
    }
   ],
   "source": [
    "# Random Forest Test Data\n",
    "rf_pred_test = rf.predict(features_test)\n",
    "rf_rmse_test = rmse(target_test, rf_pred_test)\n",
    "print(\"RF RMSE on test set:\", rf_rmse_test)\n",
    "\n",
    "print()\n",
    "\n",
    "average_actual_test = target_test.mean()\n",
    "percentage_error_rate_test = (rf_rmse_test / average_actual_test) * 100\n",
    "print('Percentage Error Rate (Test):', percentage_error_rate_test)"
   ]
  },
  {
   "cell_type": "code",
   "execution_count": 227,
   "metadata": {},
   "outputs": [
    {
     "name": "stdout",
     "output_type": "stream",
     "text": [
      "BRF RMSE on test set: 52.24192048531923\n",
      "\n",
      "Percentage Error Rate (Test): 37.43293926350491\n"
     ]
    }
   ],
   "source": [
    "# Best RF model\n",
    "brf_pred_test = best_rf.predict(features_test)\n",
    "brf_rmse_test = rmse(target_test, brf_pred_test)\n",
    "print(\"BRF RMSE on test set:\", brf_rmse_test)\n",
    "\n",
    "print()\n",
    "\n",
    "average_actual_test = target_test.mean()\n",
    "percentage_error_rate_test = (brf_rmse_test / average_actual_test) * 100\n",
    "print('Percentage Error Rate (Test):', percentage_error_rate_test)"
   ]
  },
  {
   "cell_type": "code",
   "execution_count": 228,
   "metadata": {},
   "outputs": [
    {
     "name": "stdout",
     "output_type": "stream",
     "text": [
      "DT RMSE on test set: 54.6197797366991\n",
      "\n",
      "Percentage Error Rate (Test): 39.13674839048904\n"
     ]
    }
   ],
   "source": [
    "# Decision Tree Test Data\n",
    "dt_pred_test = dt.predict(features_test)\n",
    "dt_rmse_test = rmse(target_test, dt_pred_test)\n",
    "print(\"DT RMSE on test set:\", dt_rmse_test)\n",
    "\n",
    "print()\n",
    "\n",
    "average_actual_test = target_test.mean()\n",
    "percentage_error_rate_test = (dt_rmse_test / average_actual_test) * 100\n",
    "print('Percentage Error Rate (Test):', percentage_error_rate_test)"
   ]
  },
  {
   "cell_type": "markdown",
   "metadata": {},
   "source": [
    "## Conclusion\n",
    "<br>\n",
    "For this dataset, we can see that we have daily and hourly seasonality and an upwards trend over the time series. A Linear Regression model has proven to be the most effective model for predicting taxi orders, achieving an RMSE score of 27.13 on the test dataset and a Percentage Error Rate of 19%. We used a max_lag of the 22 hours previous and a rolling mean window size up to 12. Although these results are not perfect, Linear Regression has shown to be a reliable baseline model.\n",
    "\n",
    "As more data becomes available, there is potential to further improve the model's performance. With additional data, we can revisit the model and consider more advanced techniques or feature engineering strategies to enhance prediction accuracy."
   ]
  }
 ],
 "metadata": {
  "ExecuteTimeLog": [
   {
    "duration": 5627,
    "start_time": "2024-08-06T19:22:15.549Z"
   },
   {
    "duration": 1170,
    "start_time": "2024-08-06T19:23:36.908Z"
   },
   {
    "duration": 30,
    "start_time": "2024-08-06T19:24:08.957Z"
   },
   {
    "duration": 14,
    "start_time": "2024-08-06T19:24:18.731Z"
   },
   {
    "duration": 15,
    "start_time": "2024-08-06T19:24:48.550Z"
   },
   {
    "duration": 10,
    "start_time": "2024-08-06T19:28:48.438Z"
   },
   {
    "duration": 12,
    "start_time": "2024-08-06T19:29:01.085Z"
   },
   {
    "duration": 13,
    "start_time": "2024-08-06T19:29:21.647Z"
   },
   {
    "duration": 10,
    "start_time": "2024-08-06T19:29:38.378Z"
   },
   {
    "duration": 29,
    "start_time": "2024-08-06T19:30:12.403Z"
   },
   {
    "duration": 9,
    "start_time": "2024-08-06T19:30:26.051Z"
   },
   {
    "duration": 8,
    "start_time": "2024-08-06T19:30:30.802Z"
   },
   {
    "duration": 15,
    "start_time": "2024-08-06T19:31:41.372Z"
   },
   {
    "duration": 7,
    "start_time": "2024-08-06T19:31:42.187Z"
   },
   {
    "duration": 7,
    "start_time": "2024-08-06T19:31:43.373Z"
   },
   {
    "duration": 13,
    "start_time": "2024-08-06T19:47:10.972Z"
   },
   {
    "duration": 6,
    "start_time": "2024-08-06T19:47:50.907Z"
   },
   {
    "duration": 410,
    "start_time": "2024-08-06T19:49:07.381Z"
   },
   {
    "duration": 295,
    "start_time": "2024-08-06T19:50:43.726Z"
   },
   {
    "duration": 301,
    "start_time": "2024-08-06T19:50:56.961Z"
   },
   {
    "duration": 297,
    "start_time": "2024-08-06T19:51:08.837Z"
   },
   {
    "duration": 292,
    "start_time": "2024-08-06T19:52:14.113Z"
   },
   {
    "duration": 6,
    "start_time": "2024-08-06T19:54:02.007Z"
   },
   {
    "duration": 731,
    "start_time": "2024-08-06T19:54:30.074Z"
   },
   {
    "duration": 5,
    "start_time": "2024-08-06T19:56:18.389Z"
   },
   {
    "duration": 26,
    "start_time": "2024-08-06T19:56:19.457Z"
   },
   {
    "duration": 7,
    "start_time": "2024-08-06T19:57:06.174Z"
   },
   {
    "duration": 9,
    "start_time": "2024-08-06T19:57:11.911Z"
   },
   {
    "duration": 6,
    "start_time": "2024-08-06T19:57:14.029Z"
   },
   {
    "duration": 10,
    "start_time": "2024-08-06T19:57:34.510Z"
   },
   {
    "duration": 316,
    "start_time": "2024-08-06T19:57:38.220Z"
   },
   {
    "duration": 15,
    "start_time": "2024-08-06T19:57:52.705Z"
   },
   {
    "duration": 956,
    "start_time": "2024-08-06T19:59:24.232Z"
   },
   {
    "duration": 33,
    "start_time": "2024-08-06T20:02:45.058Z"
   },
   {
    "duration": 9,
    "start_time": "2024-08-06T20:02:46.047Z"
   },
   {
    "duration": 13,
    "start_time": "2024-08-06T20:02:49.850Z"
   },
   {
    "duration": 6,
    "start_time": "2024-08-06T20:04:05.068Z"
   },
   {
    "duration": 6,
    "start_time": "2024-08-06T20:04:16.850Z"
   },
   {
    "duration": 5,
    "start_time": "2024-08-06T20:04:17.419Z"
   },
   {
    "duration": 9,
    "start_time": "2024-08-06T20:04:39.721Z"
   },
   {
    "duration": 9,
    "start_time": "2024-08-06T20:04:48.710Z"
   },
   {
    "duration": 314,
    "start_time": "2024-08-06T20:05:46.520Z"
   },
   {
    "duration": 19,
    "start_time": "2024-08-06T20:21:56.362Z"
   },
   {
    "duration": 29,
    "start_time": "2024-08-06T20:25:34.464Z"
   },
   {
    "duration": 852,
    "start_time": "2024-08-06T20:27:38.359Z"
   },
   {
    "duration": 230,
    "start_time": "2024-08-06T20:27:39.215Z"
   },
   {
    "duration": 190,
    "start_time": "2024-08-06T20:27:42.019Z"
   },
   {
    "duration": 7,
    "start_time": "2024-08-06T20:27:44.387Z"
   },
   {
    "duration": 751,
    "start_time": "2024-08-06T20:28:43.922Z"
   },
   {
    "duration": 385,
    "start_time": "2024-08-06T20:28:48.842Z"
   },
   {
    "duration": 192,
    "start_time": "2024-08-06T20:28:53.426Z"
   },
   {
    "duration": 324,
    "start_time": "2024-08-08T19:23:40.099Z"
   },
   {
    "duration": 1835,
    "start_time": "2024-08-08T19:23:47.849Z"
   },
   {
    "duration": 47,
    "start_time": "2024-08-08T19:23:49.689Z"
   },
   {
    "duration": 19,
    "start_time": "2024-08-08T19:23:49.742Z"
   },
   {
    "duration": 16,
    "start_time": "2024-08-08T19:23:52.025Z"
   },
   {
    "duration": 7,
    "start_time": "2024-08-08T19:23:55.547Z"
   },
   {
    "duration": 7,
    "start_time": "2024-08-08T19:23:58.750Z"
   },
   {
    "duration": 6,
    "start_time": "2024-08-08T19:24:01.419Z"
   },
   {
    "duration": 13,
    "start_time": "2024-08-08T19:24:02.635Z"
   },
   {
    "duration": 9,
    "start_time": "2024-08-08T19:24:03.822Z"
   },
   {
    "duration": 328,
    "start_time": "2024-08-08T19:24:08.862Z"
   },
   {
    "duration": 19,
    "start_time": "2024-08-08T19:24:24.562Z"
   },
   {
    "duration": 988,
    "start_time": "2024-08-08T19:24:27.938Z"
   },
   {
    "duration": 388,
    "start_time": "2024-08-08T19:25:41.609Z"
   },
   {
    "duration": 221,
    "start_time": "2024-08-08T19:25:45.202Z"
   },
   {
    "duration": 1302,
    "start_time": "2024-08-08T19:26:48.189Z"
   },
   {
    "duration": 872,
    "start_time": "2024-08-08T19:27:14.333Z"
   },
   {
    "duration": 945,
    "start_time": "2024-08-08T19:27:21.581Z"
   },
   {
    "duration": 196,
    "start_time": "2024-08-08T19:27:25.337Z"
   },
   {
    "duration": 299,
    "start_time": "2024-08-08T19:28:36.552Z"
   },
   {
    "duration": 2044,
    "start_time": "2024-08-08T19:31:10.004Z"
   },
   {
    "duration": 252,
    "start_time": "2024-08-08T19:31:23.615Z"
   },
   {
    "duration": 8,
    "start_time": "2024-08-08T19:36:27.720Z"
   },
   {
    "duration": 239,
    "start_time": "2024-08-12T13:59:17.033Z"
   },
   {
    "duration": 254,
    "start_time": "2024-08-12T14:00:23.012Z"
   },
   {
    "duration": 235,
    "start_time": "2024-08-12T14:00:26.480Z"
   },
   {
    "duration": 238,
    "start_time": "2024-08-12T14:00:47.683Z"
   },
   {
    "duration": 11,
    "start_time": "2024-08-12T14:15:41.642Z"
   },
   {
    "duration": 255,
    "start_time": "2024-08-12T14:15:43.133Z"
   },
   {
    "duration": 11,
    "start_time": "2024-08-12T14:16:26.232Z"
   },
   {
    "duration": 230,
    "start_time": "2024-08-12T14:16:28.657Z"
   },
   {
    "duration": 10,
    "start_time": "2024-08-12T14:17:44.619Z"
   },
   {
    "duration": 245,
    "start_time": "2024-08-12T14:17:46.468Z"
   },
   {
    "duration": 248,
    "start_time": "2024-08-12T14:17:58.429Z"
   },
   {
    "duration": 243,
    "start_time": "2024-08-12T14:20:44.843Z"
   },
   {
    "duration": 242,
    "start_time": "2024-08-12T14:21:42.686Z"
   },
   {
    "duration": 264,
    "start_time": "2024-08-12T14:26:10.207Z"
   },
   {
    "duration": 10,
    "start_time": "2024-08-12T14:30:29.657Z"
   },
   {
    "duration": 90,
    "start_time": "2024-08-12T14:32:39.474Z"
   },
   {
    "duration": 823,
    "start_time": "2024-08-12T14:33:13.236Z"
   },
   {
    "duration": 33,
    "start_time": "2024-08-12T14:47:19.669Z"
   },
   {
    "duration": 1098,
    "start_time": "2024-08-12T14:47:31.910Z"
   },
   {
    "duration": 9,
    "start_time": "2024-08-12T14:57:45.413Z"
   },
   {
    "duration": 9,
    "start_time": "2024-08-12T14:57:46.520Z"
   },
   {
    "duration": 472,
    "start_time": "2024-08-12T14:57:50.046Z"
   },
   {
    "duration": 17,
    "start_time": "2024-08-12T14:57:55.054Z"
   },
   {
    "duration": 787,
    "start_time": "2024-08-12T14:57:57.453Z"
   },
   {
    "duration": 245,
    "start_time": "2024-08-12T14:58:01.771Z"
   },
   {
    "duration": 204,
    "start_time": "2024-08-12T14:58:04.478Z"
   },
   {
    "duration": 124,
    "start_time": "2024-08-12T14:58:38.371Z"
   },
   {
    "duration": 59,
    "start_time": "2024-08-12T14:58:49.697Z"
   },
   {
    "duration": 804,
    "start_time": "2024-08-12T14:58:57.739Z"
   },
   {
    "duration": 384,
    "start_time": "2024-08-12T16:01:24.513Z"
   },
   {
    "duration": 383,
    "start_time": "2024-08-12T16:01:35.786Z"
   },
   {
    "duration": 8,
    "start_time": "2024-08-12T16:01:39.175Z"
   },
   {
    "duration": 325,
    "start_time": "2024-08-12T16:01:45.866Z"
   },
   {
    "duration": 380,
    "start_time": "2024-08-12T16:02:21.025Z"
   },
   {
    "duration": 362,
    "start_time": "2024-08-12T16:04:27.295Z"
   },
   {
    "duration": 187,
    "start_time": "2024-08-12T16:04:31.427Z"
   },
   {
    "duration": 170,
    "start_time": "2024-08-12T16:04:34.787Z"
   },
   {
    "duration": 11,
    "start_time": "2024-08-12T16:04:42.019Z"
   },
   {
    "duration": 246,
    "start_time": "2024-08-12T16:04:42.987Z"
   },
   {
    "duration": 243,
    "start_time": "2024-08-12T16:04:46.435Z"
   },
   {
    "duration": 236,
    "start_time": "2024-08-12T16:04:49.867Z"
   },
   {
    "duration": 9,
    "start_time": "2024-08-12T16:04:55.399Z"
   },
   {
    "duration": 365,
    "start_time": "2024-08-12T16:09:26.340Z"
   },
   {
    "duration": 352,
    "start_time": "2024-08-12T16:09:37.449Z"
   },
   {
    "duration": 563,
    "start_time": "2024-08-12T16:11:56.752Z"
   },
   {
    "duration": 239,
    "start_time": "2024-08-12T16:12:02.098Z"
   },
   {
    "duration": 185,
    "start_time": "2024-08-12T16:12:04.708Z"
   },
   {
    "duration": 238,
    "start_time": "2024-08-12T16:14:35.941Z"
   },
   {
    "duration": 425,
    "start_time": "2024-08-12T16:16:08.488Z"
   },
   {
    "duration": 178,
    "start_time": "2024-08-12T16:16:14.161Z"
   },
   {
    "duration": 178,
    "start_time": "2024-08-12T16:16:17.684Z"
   },
   {
    "duration": 245,
    "start_time": "2024-08-12T16:16:20.668Z"
   },
   {
    "duration": 8,
    "start_time": "2024-08-12T16:23:30.566Z"
   },
   {
    "duration": 8,
    "start_time": "2024-08-12T16:23:32.111Z"
   },
   {
    "duration": 303,
    "start_time": "2024-08-12T16:23:40.935Z"
   },
   {
    "duration": 424,
    "start_time": "2024-08-12T16:23:51.993Z"
   },
   {
    "duration": 357,
    "start_time": "2024-08-12T16:24:07.544Z"
   },
   {
    "duration": 189,
    "start_time": "2024-08-12T16:24:15.559Z"
   },
   {
    "duration": 193,
    "start_time": "2024-08-12T16:24:18.064Z"
   },
   {
    "duration": 16,
    "start_time": "2024-08-12T16:24:51.832Z"
   },
   {
    "duration": 9,
    "start_time": "2024-08-12T16:25:22.912Z"
   },
   {
    "duration": 277,
    "start_time": "2024-08-12T16:25:43.746Z"
   },
   {
    "duration": 304,
    "start_time": "2024-08-12T16:26:24.178Z"
   },
   {
    "duration": 180,
    "start_time": "2024-08-12T16:26:40.971Z"
   },
   {
    "duration": 167,
    "start_time": "2024-08-12T16:26:51.251Z"
   },
   {
    "duration": 358,
    "start_time": "2024-08-12T16:28:46.106Z"
   },
   {
    "duration": 184,
    "start_time": "2024-08-12T16:28:49.013Z"
   },
   {
    "duration": 176,
    "start_time": "2024-08-12T16:29:01.420Z"
   },
   {
    "duration": 335,
    "start_time": "2024-08-12T16:31:03.991Z"
   },
   {
    "duration": 186,
    "start_time": "2024-08-12T16:31:06.630Z"
   },
   {
    "duration": 350,
    "start_time": "2024-08-12T16:32:04.055Z"
   },
   {
    "duration": 10,
    "start_time": "2024-08-12T16:48:02.302Z"
   },
   {
    "duration": 261,
    "start_time": "2024-08-12T16:48:28.541Z"
   },
   {
    "duration": 9,
    "start_time": "2024-08-12T16:49:06.027Z"
   },
   {
    "duration": 289,
    "start_time": "2024-08-12T16:49:06.385Z"
   },
   {
    "duration": 8,
    "start_time": "2024-08-12T16:49:38.266Z"
   },
   {
    "duration": 279,
    "start_time": "2024-08-12T16:49:52.134Z"
   },
   {
    "duration": 276,
    "start_time": "2024-08-12T16:50:04.280Z"
   },
   {
    "duration": 244,
    "start_time": "2024-08-12T16:50:14.823Z"
   },
   {
    "duration": 9,
    "start_time": "2024-08-12T16:51:08.954Z"
   },
   {
    "duration": 295,
    "start_time": "2024-08-12T16:51:09.290Z"
   },
   {
    "duration": 9,
    "start_time": "2024-08-12T16:52:20.457Z"
   },
   {
    "duration": 8,
    "start_time": "2024-08-12T16:52:32.985Z"
   },
   {
    "duration": 361,
    "start_time": "2024-08-12T18:05:45.464Z"
   },
   {
    "duration": 189,
    "start_time": "2024-08-12T18:07:47.873Z"
   },
   {
    "duration": 177,
    "start_time": "2024-08-12T18:08:00.950Z"
   },
   {
    "duration": 349,
    "start_time": "2024-08-12T18:09:17.513Z"
   },
   {
    "duration": 173,
    "start_time": "2024-08-12T18:09:20.833Z"
   },
   {
    "duration": 330,
    "start_time": "2024-08-12T18:10:22.428Z"
   },
   {
    "duration": 178,
    "start_time": "2024-08-12T18:10:25.015Z"
   },
   {
    "duration": 321,
    "start_time": "2024-08-12T18:10:41.276Z"
   },
   {
    "duration": 183,
    "start_time": "2024-08-12T18:10:43.780Z"
   },
   {
    "duration": 190,
    "start_time": "2024-08-12T18:10:46.172Z"
   },
   {
    "duration": 361,
    "start_time": "2024-08-12T19:31:48.764Z"
   },
   {
    "duration": 188,
    "start_time": "2024-08-12T19:35:08.828Z"
   },
   {
    "duration": 11,
    "start_time": "2024-08-12T19:44:04.327Z"
   },
   {
    "duration": 238,
    "start_time": "2024-08-12T19:44:05.466Z"
   },
   {
    "duration": 524,
    "start_time": "2024-08-12T19:46:22.009Z"
   },
   {
    "duration": 8,
    "start_time": "2024-08-12T19:47:03.017Z"
   },
   {
    "duration": 504,
    "start_time": "2024-08-13T19:57:16.651Z"
   },
   {
    "duration": 376,
    "start_time": "2024-08-13T19:58:16.638Z"
   },
   {
    "duration": 254,
    "start_time": "2024-08-13T19:58:27.364Z"
   },
   {
    "duration": 263,
    "start_time": "2024-08-13T19:58:45.502Z"
   },
   {
    "duration": 259,
    "start_time": "2024-08-13T19:59:14.656Z"
   },
   {
    "duration": 258,
    "start_time": "2024-08-13T19:59:51.811Z"
   },
   {
    "duration": 268,
    "start_time": "2024-08-13T20:01:33.423Z"
   },
   {
    "duration": 263,
    "start_time": "2024-08-13T20:35:02.374Z"
   },
   {
    "duration": 297,
    "start_time": "2024-08-13T20:40:02.011Z"
   },
   {
    "duration": 30,
    "start_time": "2024-08-13T20:42:09.966Z"
   },
   {
    "duration": 381,
    "start_time": "2024-08-13T20:42:18.590Z"
   },
   {
    "duration": 198,
    "start_time": "2024-08-13T20:42:56.228Z"
   },
   {
    "duration": 175,
    "start_time": "2024-08-13T20:42:58.764Z"
   },
   {
    "duration": 132,
    "start_time": "2024-08-14T14:45:22.567Z"
   },
   {
    "duration": 54,
    "start_time": "2024-08-14T16:03:02.293Z"
   },
   {
    "duration": 34,
    "start_time": "2024-08-14T16:03:07.046Z"
   },
   {
    "duration": 394,
    "start_time": "2024-08-14T16:03:12.782Z"
   },
   {
    "duration": 499,
    "start_time": "2024-08-14T17:14:18.437Z"
   },
   {
    "duration": 253,
    "start_time": "2024-08-14T17:17:48.820Z"
   },
   {
    "duration": 265,
    "start_time": "2024-08-14T17:18:06.746Z"
   },
   {
    "duration": 267,
    "start_time": "2024-08-14T17:18:32.386Z"
   },
   {
    "duration": 283,
    "start_time": "2024-08-14T17:18:40.196Z"
   },
   {
    "duration": 257,
    "start_time": "2024-08-14T17:18:48.435Z"
   },
   {
    "duration": 265,
    "start_time": "2024-08-14T17:18:57.455Z"
   },
   {
    "duration": 275,
    "start_time": "2024-08-14T17:19:12.365Z"
   },
   {
    "duration": 263,
    "start_time": "2024-08-14T17:19:22.651Z"
   },
   {
    "duration": 263,
    "start_time": "2024-08-14T17:19:48.619Z"
   },
   {
    "duration": 239,
    "start_time": "2024-08-14T17:20:15.890Z"
   },
   {
    "duration": 260,
    "start_time": "2024-08-14T17:20:24.827Z"
   },
   {
    "duration": 7,
    "start_time": "2024-08-14T17:21:09.795Z"
   },
   {
    "duration": 31,
    "start_time": "2024-08-14T17:21:10.203Z"
   },
   {
    "duration": 10,
    "start_time": "2024-08-14T17:21:10.606Z"
   },
   {
    "duration": 16,
    "start_time": "2024-08-14T17:21:12.642Z"
   },
   {
    "duration": 10,
    "start_time": "2024-08-14T17:21:13.154Z"
   },
   {
    "duration": 6,
    "start_time": "2024-08-14T17:21:14.127Z"
   },
   {
    "duration": 6,
    "start_time": "2024-08-14T17:21:14.780Z"
   },
   {
    "duration": 9,
    "start_time": "2024-08-14T17:21:19.536Z"
   },
   {
    "duration": 10,
    "start_time": "2024-08-14T17:21:21.623Z"
   },
   {
    "duration": 393,
    "start_time": "2024-08-14T17:21:25.208Z"
   },
   {
    "duration": 308,
    "start_time": "2024-08-14T17:21:30.997Z"
   },
   {
    "duration": 366,
    "start_time": "2024-08-14T17:21:33.908Z"
   },
   {
    "duration": 201,
    "start_time": "2024-08-14T17:21:36.593Z"
   },
   {
    "duration": 195,
    "start_time": "2024-08-14T17:21:39.010Z"
   },
   {
    "duration": 10,
    "start_time": "2024-08-14T17:21:41.662Z"
   },
   {
    "duration": 274,
    "start_time": "2024-08-14T17:21:42.564Z"
   },
   {
    "duration": 342,
    "start_time": "2024-08-14T17:21:46.508Z"
   },
   {
    "duration": 11,
    "start_time": "2024-08-14T17:43:56.587Z"
   },
   {
    "duration": 371,
    "start_time": "2024-08-14T17:44:16.008Z"
   },
   {
    "duration": 12,
    "start_time": "2024-08-14T17:44:37.511Z"
   },
   {
    "duration": 14,
    "start_time": "2024-08-14T17:44:52.951Z"
   },
   {
    "duration": 47,
    "start_time": "2024-08-14T17:45:18.107Z"
   },
   {
    "duration": 4,
    "start_time": "2024-08-14T17:45:27.987Z"
   },
   {
    "duration": 13,
    "start_time": "2024-08-14T17:45:39.001Z"
   },
   {
    "duration": 6,
    "start_time": "2024-08-14T17:48:56.789Z"
   },
   {
    "duration": 10,
    "start_time": "2024-08-14T17:49:06.173Z"
   },
   {
    "duration": 9,
    "start_time": "2024-08-14T17:49:33.198Z"
   },
   {
    "duration": 18,
    "start_time": "2024-08-14T17:50:21.274Z"
   },
   {
    "duration": 19,
    "start_time": "2024-08-14T17:50:23.553Z"
   },
   {
    "duration": 23,
    "start_time": "2024-08-14T18:48:04.123Z"
   },
   {
    "duration": 8,
    "start_time": "2024-08-14T20:09:38.963Z"
   },
   {
    "duration": 31,
    "start_time": "2024-08-14T20:09:39.736Z"
   },
   {
    "duration": 9,
    "start_time": "2024-08-14T20:09:40.553Z"
   },
   {
    "duration": 15,
    "start_time": "2024-08-14T20:09:43.192Z"
   },
   {
    "duration": 9,
    "start_time": "2024-08-14T20:09:44.284Z"
   },
   {
    "duration": 6,
    "start_time": "2024-08-14T20:09:44.960Z"
   },
   {
    "duration": 5,
    "start_time": "2024-08-14T20:09:46.025Z"
   },
   {
    "duration": 8,
    "start_time": "2024-08-14T20:09:47.544Z"
   },
   {
    "duration": 9,
    "start_time": "2024-08-14T20:09:54.596Z"
   },
   {
    "duration": 383,
    "start_time": "2024-08-14T20:11:29.277Z"
   },
   {
    "duration": 289,
    "start_time": "2024-08-14T20:11:31.779Z"
   },
   {
    "duration": 378,
    "start_time": "2024-08-14T20:11:35.363Z"
   },
   {
    "duration": 187,
    "start_time": "2024-08-14T20:11:37.739Z"
   },
   {
    "duration": 476,
    "start_time": "2024-08-14T20:11:40.795Z"
   },
   {
    "duration": 10,
    "start_time": "2024-08-14T20:11:48.990Z"
   },
   {
    "duration": 256,
    "start_time": "2024-08-14T20:11:56.779Z"
   },
   {
    "duration": 10,
    "start_time": "2024-08-14T20:30:28.868Z"
   },
   {
    "duration": 247,
    "start_time": "2024-08-14T20:30:30.426Z"
   },
   {
    "duration": 725,
    "start_time": "2024-08-14T20:31:25.537Z"
   },
   {
    "duration": 297,
    "start_time": "2024-08-14T20:42:19.939Z"
   },
   {
    "duration": 463,
    "start_time": "2024-08-14T20:47:27.300Z"
   },
   {
    "duration": 7,
    "start_time": "2024-08-14T20:58:22.405Z"
   },
   {
    "duration": 298,
    "start_time": "2024-08-14T20:58:32.531Z"
   },
   {
    "duration": 453,
    "start_time": "2024-08-14T20:59:03.425Z"
   },
   {
    "duration": 389,
    "start_time": "2024-08-14T21:00:42.890Z"
   },
   {
    "duration": 643,
    "start_time": "2024-08-14T21:01:23.394Z"
   },
   {
    "duration": 465,
    "start_time": "2024-08-15T17:21:22.664Z"
   },
   {
    "duration": 472,
    "start_time": "2024-08-15T17:24:49.611Z"
   },
   {
    "duration": 7,
    "start_time": "2024-08-15T17:27:23.181Z"
   },
   {
    "duration": 51,
    "start_time": "2024-08-15T17:27:24.845Z"
   },
   {
    "duration": 9,
    "start_time": "2024-08-15T17:27:25.302Z"
   },
   {
    "duration": 16,
    "start_time": "2024-08-15T17:27:25.810Z"
   },
   {
    "duration": 7,
    "start_time": "2024-08-15T17:27:27.648Z"
   },
   {
    "duration": 7,
    "start_time": "2024-08-15T17:27:27.913Z"
   },
   {
    "duration": 7,
    "start_time": "2024-08-15T17:27:28.140Z"
   },
   {
    "duration": 9,
    "start_time": "2024-08-15T17:27:28.577Z"
   },
   {
    "duration": 9,
    "start_time": "2024-08-15T17:27:29.125Z"
   },
   {
    "duration": 295,
    "start_time": "2024-08-15T17:27:31.223Z"
   },
   {
    "duration": 372,
    "start_time": "2024-08-15T17:27:33.741Z"
   },
   {
    "duration": 213,
    "start_time": "2024-08-15T17:27:35.837Z"
   },
   {
    "duration": 187,
    "start_time": "2024-08-15T17:27:38.397Z"
   },
   {
    "duration": 4,
    "start_time": "2024-08-15T17:27:41.326Z"
   },
   {
    "duration": 675,
    "start_time": "2024-08-15T17:27:44.686Z"
   },
   {
    "duration": 467,
    "start_time": "2024-08-15T17:27:48.405Z"
   },
   {
    "duration": 2266,
    "start_time": "2024-08-15T17:30:02.777Z"
   },
   {
    "duration": 479,
    "start_time": "2024-08-15T17:31:57.085Z"
   },
   {
    "duration": 11,
    "start_time": "2024-08-15T18:01:14.354Z"
   },
   {
    "duration": 10,
    "start_time": "2024-08-15T18:01:17.578Z"
   },
   {
    "duration": 10,
    "start_time": "2024-08-15T18:01:24.387Z"
   },
   {
    "duration": 10,
    "start_time": "2024-08-15T18:01:33.215Z"
   },
   {
    "duration": 404,
    "start_time": "2024-08-15T18:01:34.619Z"
   },
   {
    "duration": 11,
    "start_time": "2024-08-15T18:01:47.898Z"
   },
   {
    "duration": 394,
    "start_time": "2024-08-15T18:01:49.610Z"
   },
   {
    "duration": 412,
    "start_time": "2024-08-15T18:03:58.237Z"
   },
   {
    "duration": 10,
    "start_time": "2024-08-15T18:25:14.800Z"
   },
   {
    "duration": 28,
    "start_time": "2024-08-15T18:25:34.470Z"
   },
   {
    "duration": 6,
    "start_time": "2024-08-15T18:25:39.199Z"
   },
   {
    "duration": 8,
    "start_time": "2024-08-15T18:34:21.946Z"
   },
   {
    "duration": 46,
    "start_time": "2024-08-15T18:34:22.521Z"
   },
   {
    "duration": 11,
    "start_time": "2024-08-15T18:34:23.267Z"
   },
   {
    "duration": 16,
    "start_time": "2024-08-15T18:34:25.264Z"
   },
   {
    "duration": 10,
    "start_time": "2024-08-15T18:34:25.897Z"
   },
   {
    "duration": 13,
    "start_time": "2024-08-15T18:34:26.405Z"
   },
   {
    "duration": 9,
    "start_time": "2024-08-15T18:34:26.920Z"
   },
   {
    "duration": 11,
    "start_time": "2024-08-15T18:34:27.501Z"
   },
   {
    "duration": 13,
    "start_time": "2024-08-15T18:34:29.282Z"
   },
   {
    "duration": 318,
    "start_time": "2024-08-15T18:34:31.810Z"
   },
   {
    "duration": 412,
    "start_time": "2024-08-15T18:34:35.962Z"
   },
   {
    "duration": 200,
    "start_time": "2024-08-15T18:34:37.213Z"
   },
   {
    "duration": 192,
    "start_time": "2024-08-15T18:34:55.177Z"
   },
   {
    "duration": 200,
    "start_time": "2024-08-15T18:34:56.669Z"
   },
   {
    "duration": 4,
    "start_time": "2024-08-15T18:34:59.088Z"
   },
   {
    "duration": 712,
    "start_time": "2024-08-15T18:34:59.822Z"
   },
   {
    "duration": 485,
    "start_time": "2024-08-15T18:35:03.853Z"
   },
   {
    "duration": 12,
    "start_time": "2024-08-15T18:35:07.193Z"
   },
   {
    "duration": 11,
    "start_time": "2024-08-15T18:35:09.505Z"
   },
   {
    "duration": 9,
    "start_time": "2024-08-15T18:35:20.585Z"
   },
   {
    "duration": 34,
    "start_time": "2024-08-15T18:35:20.599Z"
   },
   {
    "duration": 10,
    "start_time": "2024-08-15T18:35:20.638Z"
   },
   {
    "duration": 47,
    "start_time": "2024-08-15T18:35:20.655Z"
   },
   {
    "duration": 16,
    "start_time": "2024-08-15T18:35:20.706Z"
   },
   {
    "duration": 14,
    "start_time": "2024-08-15T18:35:20.728Z"
   },
   {
    "duration": 8,
    "start_time": "2024-08-15T18:35:20.745Z"
   },
   {
    "duration": 52,
    "start_time": "2024-08-15T18:35:20.758Z"
   },
   {
    "duration": 17,
    "start_time": "2024-08-15T18:35:20.814Z"
   },
   {
    "duration": 388,
    "start_time": "2024-08-15T18:35:20.837Z"
   },
   {
    "duration": 415,
    "start_time": "2024-08-15T18:35:21.230Z"
   },
   {
    "duration": 235,
    "start_time": "2024-08-15T18:35:21.649Z"
   },
   {
    "duration": 209,
    "start_time": "2024-08-15T18:35:21.892Z"
   },
   {
    "duration": 4,
    "start_time": "2024-08-15T18:35:22.110Z"
   },
   {
    "duration": 744,
    "start_time": "2024-08-15T18:35:22.118Z"
   },
   {
    "duration": 511,
    "start_time": "2024-08-15T18:35:22.866Z"
   },
   {
    "duration": 25,
    "start_time": "2024-08-15T18:35:23.381Z"
   },
   {
    "duration": 8,
    "start_time": "2024-08-15T18:35:23.409Z"
   },
   {
    "duration": 19,
    "start_time": "2024-08-15T18:35:23.421Z"
   },
   {
    "duration": 67,
    "start_time": "2024-08-15T18:35:23.443Z"
   },
   {
    "duration": 28,
    "start_time": "2024-08-15T18:35:23.514Z"
   },
   {
    "duration": 25,
    "start_time": "2024-08-15T18:36:09.502Z"
   },
   {
    "duration": 20,
    "start_time": "2024-08-15T18:37:01.420Z"
   },
   {
    "duration": 1950,
    "start_time": "2024-08-15T18:40:03.306Z"
   },
   {
    "duration": 44,
    "start_time": "2024-08-15T18:40:05.260Z"
   },
   {
    "duration": 15,
    "start_time": "2024-08-15T18:40:05.307Z"
   },
   {
    "duration": 15,
    "start_time": "2024-08-15T18:40:05.325Z"
   },
   {
    "duration": 6,
    "start_time": "2024-08-15T18:40:05.345Z"
   },
   {
    "duration": 52,
    "start_time": "2024-08-15T18:40:05.354Z"
   },
   {
    "duration": 6,
    "start_time": "2024-08-15T18:40:05.409Z"
   },
   {
    "duration": 8,
    "start_time": "2024-08-15T18:40:05.419Z"
   },
   {
    "duration": 13,
    "start_time": "2024-08-15T18:40:05.431Z"
   },
   {
    "duration": 57,
    "start_time": "2024-08-15T18:40:05.447Z"
   },
   {
    "duration": 347,
    "start_time": "2024-08-15T18:40:05.507Z"
   },
   {
    "duration": 408,
    "start_time": "2024-08-15T18:40:05.858Z"
   },
   {
    "duration": 294,
    "start_time": "2024-08-15T18:40:06.269Z"
   },
   {
    "duration": 207,
    "start_time": "2024-08-15T18:40:06.569Z"
   },
   {
    "duration": 4,
    "start_time": "2024-08-15T18:40:06.780Z"
   },
   {
    "duration": 707,
    "start_time": "2024-08-15T18:40:06.804Z"
   },
   {
    "duration": 482,
    "start_time": "2024-08-15T18:40:07.514Z"
   },
   {
    "duration": 12,
    "start_time": "2024-08-15T18:40:08.003Z"
   },
   {
    "duration": 7,
    "start_time": "2024-08-15T18:40:08.018Z"
   },
   {
    "duration": 16,
    "start_time": "2024-08-15T18:40:08.028Z"
   },
   {
    "duration": 6,
    "start_time": "2024-08-15T18:40:31.358Z"
   },
   {
    "duration": 25,
    "start_time": "2024-08-15T18:41:39.916Z"
   },
   {
    "duration": 13,
    "start_time": "2024-08-15T18:41:48.706Z"
   },
   {
    "duration": 8,
    "start_time": "2024-08-15T18:44:33.019Z"
   },
   {
    "duration": 9,
    "start_time": "2024-08-15T18:44:33.857Z"
   },
   {
    "duration": 6,
    "start_time": "2024-08-15T18:44:36.595Z"
   },
   {
    "duration": 7,
    "start_time": "2024-08-15T18:44:45.459Z"
   },
   {
    "duration": 31,
    "start_time": "2024-08-15T18:44:45.866Z"
   },
   {
    "duration": 10,
    "start_time": "2024-08-15T18:44:46.263Z"
   },
   {
    "duration": 14,
    "start_time": "2024-08-15T18:44:48.003Z"
   },
   {
    "duration": 7,
    "start_time": "2024-08-15T18:44:48.471Z"
   },
   {
    "duration": 7,
    "start_time": "2024-08-15T18:44:48.908Z"
   },
   {
    "duration": 5,
    "start_time": "2024-08-15T18:44:49.338Z"
   },
   {
    "duration": 9,
    "start_time": "2024-08-15T18:44:51.046Z"
   },
   {
    "duration": 9,
    "start_time": "2024-08-15T18:44:51.570Z"
   },
   {
    "duration": 9,
    "start_time": "2024-08-15T18:44:52.399Z"
   },
   {
    "duration": 5,
    "start_time": "2024-08-15T18:44:53.403Z"
   },
   {
    "duration": 9,
    "start_time": "2024-08-15T18:44:55.123Z"
   },
   {
    "duration": 297,
    "start_time": "2024-08-15T18:50:31.832Z"
   },
   {
    "duration": 380,
    "start_time": "2024-08-15T18:50:47.912Z"
   },
   {
    "duration": 180,
    "start_time": "2024-08-15T18:50:52.489Z"
   },
   {
    "duration": 178,
    "start_time": "2024-08-15T18:50:56.831Z"
   },
   {
    "duration": 4,
    "start_time": "2024-08-15T18:51:05.767Z"
   },
   {
    "duration": 676,
    "start_time": "2024-08-15T18:51:08.583Z"
   },
   {
    "duration": 599,
    "start_time": "2024-08-15T18:51:19.039Z"
   },
   {
    "duration": 680,
    "start_time": "2024-08-15T18:51:28.043Z"
   },
   {
    "duration": 572,
    "start_time": "2024-08-15T18:52:13.522Z"
   },
   {
    "duration": 12,
    "start_time": "2024-08-15T18:52:53.386Z"
   },
   {
    "duration": 5,
    "start_time": "2024-08-15T18:52:56.673Z"
   },
   {
    "duration": 18,
    "start_time": "2024-08-15T18:57:20.775Z"
   },
   {
    "duration": 18,
    "start_time": "2024-08-15T18:57:29.023Z"
   },
   {
    "duration": 32,
    "start_time": "2024-08-15T18:57:49.802Z"
   },
   {
    "duration": 6,
    "start_time": "2024-08-15T18:59:22.738Z"
   },
   {
    "duration": 7,
    "start_time": "2024-08-15T19:00:29.545Z"
   },
   {
    "duration": 493,
    "start_time": "2024-08-15T19:17:07.252Z"
   },
   {
    "duration": 14,
    "start_time": "2024-08-15T19:17:26.939Z"
   },
   {
    "duration": 688,
    "start_time": "2024-08-15T19:24:14.945Z"
   },
   {
    "duration": 8,
    "start_time": "2024-08-15T19:26:06.682Z"
   },
   {
    "duration": 4,
    "start_time": "2024-08-15T19:28:01.597Z"
   },
   {
    "duration": 12,
    "start_time": "2024-08-15T19:28:50.404Z"
   },
   {
    "duration": 18,
    "start_time": "2024-08-15T19:28:51.134Z"
   },
   {
    "duration": 8,
    "start_time": "2024-08-15T19:28:51.817Z"
   },
   {
    "duration": 5,
    "start_time": "2024-08-15T19:28:54.204Z"
   },
   {
    "duration": 8,
    "start_time": "2024-08-15T19:28:55.275Z"
   },
   {
    "duration": 178,
    "start_time": "2024-08-15T19:28:56.224Z"
   },
   {
    "duration": 8,
    "start_time": "2024-08-15T19:29:03.264Z"
   },
   {
    "duration": 12,
    "start_time": "2024-08-15T19:30:19.614Z"
   },
   {
    "duration": 13,
    "start_time": "2024-08-15T19:40:48.900Z"
   },
   {
    "duration": 18,
    "start_time": "2024-08-15T19:40:50.890Z"
   },
   {
    "duration": 11,
    "start_time": "2024-08-15T19:41:06.166Z"
   },
   {
    "duration": 18,
    "start_time": "2024-08-15T19:41:08.385Z"
   },
   {
    "duration": 18,
    "start_time": "2024-08-15T19:41:38.249Z"
   },
   {
    "duration": 5,
    "start_time": "2024-08-15T19:42:25.884Z"
   },
   {
    "duration": 14,
    "start_time": "2024-08-15T19:42:27.284Z"
   },
   {
    "duration": 19,
    "start_time": "2024-08-15T19:42:29.100Z"
   },
   {
    "duration": 10,
    "start_time": "2024-08-15T19:42:32.522Z"
   },
   {
    "duration": 6,
    "start_time": "2024-08-15T19:42:33.245Z"
   },
   {
    "duration": 7,
    "start_time": "2024-08-15T19:42:39.259Z"
   },
   {
    "duration": 12,
    "start_time": "2024-08-15T19:42:39.836Z"
   },
   {
    "duration": 7,
    "start_time": "2024-08-15T19:43:01.422Z"
   },
   {
    "duration": 33,
    "start_time": "2024-08-15T19:43:01.435Z"
   },
   {
    "duration": 31,
    "start_time": "2024-08-15T19:43:01.470Z"
   },
   {
    "duration": 14,
    "start_time": "2024-08-15T19:43:01.505Z"
   },
   {
    "duration": 6,
    "start_time": "2024-08-15T19:43:01.525Z"
   },
   {
    "duration": 6,
    "start_time": "2024-08-15T19:43:01.535Z"
   },
   {
    "duration": 7,
    "start_time": "2024-08-15T19:43:01.545Z"
   },
   {
    "duration": 9,
    "start_time": "2024-08-15T19:43:01.603Z"
   },
   {
    "duration": 10,
    "start_time": "2024-08-15T19:43:01.616Z"
   },
   {
    "duration": 10,
    "start_time": "2024-08-15T19:43:01.630Z"
   },
   {
    "duration": 6,
    "start_time": "2024-08-15T19:43:01.644Z"
   },
   {
    "duration": 9,
    "start_time": "2024-08-15T19:43:01.702Z"
   },
   {
    "duration": 322,
    "start_time": "2024-08-15T19:43:01.714Z"
   },
   {
    "duration": 383,
    "start_time": "2024-08-15T19:43:02.044Z"
   },
   {
    "duration": 209,
    "start_time": "2024-08-15T19:43:02.430Z"
   },
   {
    "duration": 198,
    "start_time": "2024-08-15T19:43:02.642Z"
   },
   {
    "duration": 5,
    "start_time": "2024-08-15T19:43:02.843Z"
   },
   {
    "duration": 712,
    "start_time": "2024-08-15T19:43:02.852Z"
   },
   {
    "duration": 464,
    "start_time": "2024-08-15T19:43:03.567Z"
   },
   {
    "duration": 5,
    "start_time": "2024-08-15T19:43:04.035Z"
   },
   {
    "duration": 15,
    "start_time": "2024-08-15T19:43:04.044Z"
   },
   {
    "duration": 49,
    "start_time": "2024-08-15T19:43:04.062Z"
   },
   {
    "duration": 9,
    "start_time": "2024-08-15T19:43:04.115Z"
   },
   {
    "duration": 5,
    "start_time": "2024-08-15T19:43:04.127Z"
   },
   {
    "duration": 6,
    "start_time": "2024-08-15T19:43:04.136Z"
   },
   {
    "duration": 56,
    "start_time": "2024-08-15T19:43:04.146Z"
   },
   {
    "duration": 8,
    "start_time": "2024-08-15T19:54:57.116Z"
   },
   {
    "duration": 5,
    "start_time": "2024-08-15T19:54:57.848Z"
   },
   {
    "duration": 7,
    "start_time": "2024-08-15T19:55:31.056Z"
   },
   {
    "duration": 7,
    "start_time": "2024-08-15T19:55:40.967Z"
   },
   {
    "duration": 12,
    "start_time": "2024-08-15T19:57:56.993Z"
   },
   {
    "duration": 12,
    "start_time": "2024-08-15T20:00:16.567Z"
   },
   {
    "duration": 4,
    "start_time": "2024-08-15T20:01:44.741Z"
   },
   {
    "duration": 17,
    "start_time": "2024-08-15T20:02:13.747Z"
   },
   {
    "duration": 13,
    "start_time": "2024-08-15T20:05:13.913Z"
   },
   {
    "duration": 4,
    "start_time": "2024-08-15T20:08:06.924Z"
   },
   {
    "duration": 17,
    "start_time": "2024-08-15T20:08:09.556Z"
   },
   {
    "duration": 4,
    "start_time": "2024-08-15T20:13:50.600Z"
   },
   {
    "duration": 12,
    "start_time": "2024-08-15T20:13:51.122Z"
   },
   {
    "duration": 16,
    "start_time": "2024-08-15T20:14:29.386Z"
   },
   {
    "duration": 145,
    "start_time": "2024-08-15T20:17:56.766Z"
   },
   {
    "duration": 19,
    "start_time": "2024-08-15T20:19:02.911Z"
   },
   {
    "duration": 735,
    "start_time": "2024-08-15T20:32:36.569Z"
   },
   {
    "duration": 680,
    "start_time": "2024-08-15T20:33:46.623Z"
   },
   {
    "duration": 705,
    "start_time": "2024-08-15T21:00:08.198Z"
   },
   {
    "duration": 109216,
    "start_time": "2024-08-15T21:26:30.609Z"
   },
   {
    "duration": 1176,
    "start_time": "2024-08-15T21:35:31.672Z"
   },
   {
    "duration": 170,
    "start_time": "2024-08-15T21:36:01.807Z"
   },
   {
    "duration": 4,
    "start_time": "2024-08-15T21:39:36.675Z"
   },
   {
    "duration": 4,
    "start_time": "2024-08-15T21:43:35.244Z"
   },
   {
    "duration": 278,
    "start_time": "2024-08-15T21:43:35.825Z"
   },
   {
    "duration": 5,
    "start_time": "2024-08-15T21:46:36.811Z"
   },
   {
    "duration": 104,
    "start_time": "2024-08-15T21:46:55.118Z"
   },
   {
    "duration": 420,
    "start_time": "2024-08-15T21:51:08.190Z"
   },
   {
    "duration": 287,
    "start_time": "2024-08-15T21:52:08.619Z"
   },
   {
    "duration": 270,
    "start_time": "2024-08-15T21:52:22.842Z"
   },
   {
    "duration": 261,
    "start_time": "2024-08-15T21:52:58.753Z"
   },
   {
    "duration": 2075,
    "start_time": "2024-08-16T14:05:53.997Z"
   },
   {
    "duration": 2045,
    "start_time": "2024-08-16T14:13:29.899Z"
   },
   {
    "duration": 7,
    "start_time": "2024-08-16T14:29:51.824Z"
   },
   {
    "duration": 7,
    "start_time": "2024-08-16T14:30:30.044Z"
   },
   {
    "duration": 7,
    "start_time": "2024-08-16T14:30:43.228Z"
   },
   {
    "duration": 4,
    "start_time": "2024-08-16T14:30:45.798Z"
   },
   {
    "duration": 33,
    "start_time": "2024-08-16T14:31:27.791Z"
   },
   {
    "duration": 2350,
    "start_time": "2024-08-16T14:32:03.933Z"
   },
   {
    "duration": 4694,
    "start_time": "2024-08-16T14:38:59.610Z"
   },
   {
    "duration": 32,
    "start_time": "2024-08-16T14:39:24.418Z"
   },
   {
    "duration": 4176,
    "start_time": "2024-08-16T14:39:36.994Z"
   },
   {
    "duration": 326,
    "start_time": "2024-08-16T14:39:44.546Z"
   },
   {
    "duration": 4290,
    "start_time": "2024-08-16T14:39:52.954Z"
   },
   {
    "duration": 5462,
    "start_time": "2024-08-16T14:40:47.454Z"
   },
   {
    "duration": 27,
    "start_time": "2024-08-16T14:40:55.789Z"
   },
   {
    "duration": 30,
    "start_time": "2024-08-16T15:06:54.140Z"
   },
   {
    "duration": 6,
    "start_time": "2024-08-16T15:07:10.877Z"
   },
   {
    "duration": 5,
    "start_time": "2024-08-16T15:07:15.437Z"
   },
   {
    "duration": 3668,
    "start_time": "2024-08-16T15:07:42.293Z"
   },
   {
    "duration": 1394,
    "start_time": "2024-08-16T15:08:03.701Z"
   },
   {
    "duration": 176,
    "start_time": "2024-08-16T15:15:58.742Z"
   },
   {
    "duration": 764,
    "start_time": "2024-08-16T15:16:07.544Z"
   },
   {
    "duration": 45,
    "start_time": "2024-08-16T15:16:08.643Z"
   },
   {
    "duration": 16,
    "start_time": "2024-08-16T15:16:09.685Z"
   },
   {
    "duration": 17,
    "start_time": "2024-08-16T15:16:11.693Z"
   },
   {
    "duration": 6,
    "start_time": "2024-08-16T15:16:12.528Z"
   },
   {
    "duration": 7,
    "start_time": "2024-08-16T15:16:12.944Z"
   },
   {
    "duration": 6,
    "start_time": "2024-08-16T15:16:15.875Z"
   },
   {
    "duration": 8,
    "start_time": "2024-08-16T15:16:16.783Z"
   },
   {
    "duration": 13,
    "start_time": "2024-08-16T15:16:18.572Z"
   },
   {
    "duration": 11,
    "start_time": "2024-08-16T15:16:19.820Z"
   },
   {
    "duration": 6,
    "start_time": "2024-08-16T15:16:22.100Z"
   },
   {
    "duration": 8,
    "start_time": "2024-08-16T15:16:23.056Z"
   },
   {
    "duration": 367,
    "start_time": "2024-08-16T15:16:25.283Z"
   },
   {
    "duration": 476,
    "start_time": "2024-08-16T15:16:28.447Z"
   },
   {
    "duration": 199,
    "start_time": "2024-08-16T15:16:31.009Z"
   },
   {
    "duration": 200,
    "start_time": "2024-08-16T15:16:33.895Z"
   },
   {
    "duration": 4,
    "start_time": "2024-08-16T15:16:37.113Z"
   },
   {
    "duration": 729,
    "start_time": "2024-08-16T15:16:37.873Z"
   },
   {
    "duration": 492,
    "start_time": "2024-08-16T15:16:41.558Z"
   },
   {
    "duration": 4,
    "start_time": "2024-08-16T15:16:45.120Z"
   },
   {
    "duration": 20,
    "start_time": "2024-08-16T15:16:47.171Z"
   },
   {
    "duration": 22,
    "start_time": "2024-08-16T15:16:51.596Z"
   },
   {
    "duration": 11,
    "start_time": "2024-08-16T15:16:54.835Z"
   },
   {
    "duration": 10,
    "start_time": "2024-08-16T15:19:18.106Z"
   },
   {
    "duration": 8,
    "start_time": "2024-08-16T15:20:46.971Z"
   },
   {
    "duration": 10,
    "start_time": "2024-08-16T15:21:13.832Z"
   },
   {
    "duration": 4,
    "start_time": "2024-08-16T15:21:16.269Z"
   },
   {
    "duration": 13,
    "start_time": "2024-08-16T15:21:18.713Z"
   },
   {
    "duration": 20,
    "start_time": "2024-08-16T15:25:09.530Z"
   },
   {
    "duration": 2067,
    "start_time": "2024-08-16T15:27:00.197Z"
   },
   {
    "duration": 126,
    "start_time": "2024-08-16T15:27:38.354Z"
   },
   {
    "duration": 83,
    "start_time": "2024-08-16T15:27:46.496Z"
   },
   {
    "duration": 346,
    "start_time": "2024-08-16T15:59:03.476Z"
   },
   {
    "duration": 51,
    "start_time": "2024-08-16T16:02:39.646Z"
   },
   {
    "duration": 80,
    "start_time": "2024-08-16T16:02:52.889Z"
   },
   {
    "duration": 54,
    "start_time": "2024-08-16T16:02:59.306Z"
   },
   {
    "duration": 42,
    "start_time": "2024-08-16T16:04:19.423Z"
   },
   {
    "duration": 9,
    "start_time": "2024-08-16T16:50:05.044Z"
   },
   {
    "duration": 16,
    "start_time": "2024-08-16T16:56:56.344Z"
   },
   {
    "duration": 10,
    "start_time": "2024-08-16T16:57:50.964Z"
   },
   {
    "duration": 13,
    "start_time": "2024-08-16T17:03:29.894Z"
   },
   {
    "duration": 18,
    "start_time": "2024-08-16T17:03:30.847Z"
   },
   {
    "duration": 10,
    "start_time": "2024-08-16T17:03:33.892Z"
   },
   {
    "duration": 9,
    "start_time": "2024-08-16T17:03:35.798Z"
   },
   {
    "duration": 7,
    "start_time": "2024-08-16T17:03:36.931Z"
   },
   {
    "duration": 22,
    "start_time": "2024-08-16T17:03:45.947Z"
   },
   {
    "duration": 4,
    "start_time": "2024-08-16T17:03:47.406Z"
   },
   {
    "duration": 14,
    "start_time": "2024-08-16T17:03:48.909Z"
   },
   {
    "duration": 36,
    "start_time": "2024-08-16T17:03:56.156Z"
   },
   {
    "duration": 85,
    "start_time": "2024-08-16T17:04:03.311Z"
   },
   {
    "duration": 34,
    "start_time": "2024-08-16T17:04:07.595Z"
   },
   {
    "duration": 10,
    "start_time": "2024-08-16T17:04:12.861Z"
   },
   {
    "duration": 12,
    "start_time": "2024-08-16T17:04:15.770Z"
   },
   {
    "duration": 14,
    "start_time": "2024-08-16T17:04:18.619Z"
   },
   {
    "duration": 12,
    "start_time": "2024-08-16T17:04:35.290Z"
   },
   {
    "duration": 52,
    "start_time": "2024-08-16T17:04:37.656Z"
   },
   {
    "duration": 9,
    "start_time": "2024-08-16T17:04:41.507Z"
   },
   {
    "duration": 8,
    "start_time": "2024-08-16T17:04:42.348Z"
   },
   {
    "duration": 7,
    "start_time": "2024-08-16T17:04:43.612Z"
   },
   {
    "duration": 9,
    "start_time": "2024-08-16T17:04:51.475Z"
   },
   {
    "duration": 4,
    "start_time": "2024-08-16T17:04:54.851Z"
   },
   {
    "duration": 14,
    "start_time": "2024-08-16T17:04:56.189Z"
   },
   {
    "duration": 35,
    "start_time": "2024-08-16T17:05:01.958Z"
   },
   {
    "duration": 81,
    "start_time": "2024-08-16T17:05:06.703Z"
   },
   {
    "duration": 47,
    "start_time": "2024-08-16T17:05:10.851Z"
   },
   {
    "duration": 13,
    "start_time": "2024-08-16T17:05:13.651Z"
   },
   {
    "duration": 11,
    "start_time": "2024-08-16T17:05:23.027Z"
   },
   {
    "duration": 12,
    "start_time": "2024-08-16T17:05:27.979Z"
   },
   {
    "duration": 37,
    "start_time": "2024-08-16T17:11:05.739Z"
   },
   {
    "duration": 36,
    "start_time": "2024-08-16T17:11:25.747Z"
   },
   {
    "duration": 35,
    "start_time": "2024-08-16T17:11:48.085Z"
   },
   {
    "duration": 32,
    "start_time": "2024-08-16T17:11:54.369Z"
   },
   {
    "duration": 40,
    "start_time": "2024-08-16T17:12:06.307Z"
   },
   {
    "duration": 14,
    "start_time": "2024-08-16T17:12:15.410Z"
   },
   {
    "duration": 8,
    "start_time": "2024-08-16T17:12:16.924Z"
   },
   {
    "duration": 8,
    "start_time": "2024-08-16T17:12:18.938Z"
   },
   {
    "duration": 9,
    "start_time": "2024-08-16T17:12:20.398Z"
   },
   {
    "duration": 4,
    "start_time": "2024-08-16T17:12:22.586Z"
   },
   {
    "duration": 12,
    "start_time": "2024-08-16T17:12:23.418Z"
   },
   {
    "duration": 30,
    "start_time": "2024-08-16T17:12:28.652Z"
   },
   {
    "duration": 261,
    "start_time": "2024-08-16T17:12:39.636Z"
   },
   {
    "duration": 100,
    "start_time": "2024-08-16T17:12:44.961Z"
   },
   {
    "duration": 10,
    "start_time": "2024-08-16T17:12:51.054Z"
   },
   {
    "duration": 17,
    "start_time": "2024-08-16T17:12:56.313Z"
   },
   {
    "duration": 10,
    "start_time": "2024-08-16T17:12:57.610Z"
   },
   {
    "duration": 46,
    "start_time": "2024-08-16T17:23:53.113Z"
   },
   {
    "duration": 6,
    "start_time": "2024-08-16T17:34:27.993Z"
   },
   {
    "duration": 32,
    "start_time": "2024-08-16T17:34:29.828Z"
   },
   {
    "duration": 13,
    "start_time": "2024-08-16T17:34:30.954Z"
   },
   {
    "duration": 18,
    "start_time": "2024-08-16T17:34:33.625Z"
   },
   {
    "duration": 10,
    "start_time": "2024-08-16T17:34:35.337Z"
   },
   {
    "duration": 7,
    "start_time": "2024-08-16T17:34:36.408Z"
   },
   {
    "duration": 6,
    "start_time": "2024-08-16T17:34:37.689Z"
   },
   {
    "duration": 11,
    "start_time": "2024-08-16T17:34:39.323Z"
   },
   {
    "duration": 8,
    "start_time": "2024-08-16T17:34:41.850Z"
   },
   {
    "duration": 9,
    "start_time": "2024-08-16T17:34:46.556Z"
   },
   {
    "duration": 6,
    "start_time": "2024-08-16T17:34:48.028Z"
   },
   {
    "duration": 7,
    "start_time": "2024-08-16T17:34:50.633Z"
   },
   {
    "duration": 304,
    "start_time": "2024-08-16T17:34:52.992Z"
   },
   {
    "duration": 480,
    "start_time": "2024-08-16T17:35:13.428Z"
   },
   {
    "duration": 198,
    "start_time": "2024-08-16T17:35:17.879Z"
   },
   {
    "duration": 186,
    "start_time": "2024-08-16T17:35:22.409Z"
   },
   {
    "duration": 5,
    "start_time": "2024-08-16T17:35:26.138Z"
   },
   {
    "duration": 706,
    "start_time": "2024-08-16T17:35:30.120Z"
   },
   {
    "duration": 468,
    "start_time": "2024-08-16T17:35:38.905Z"
   },
   {
    "duration": 6,
    "start_time": "2024-08-16T17:35:43.308Z"
   },
   {
    "duration": 50,
    "start_time": "2024-08-16T17:35:47.271Z"
   },
   {
    "duration": 34,
    "start_time": "2024-08-16T17:35:49.779Z"
   },
   {
    "duration": 17,
    "start_time": "2024-08-16T17:35:53.041Z"
   },
   {
    "duration": 10,
    "start_time": "2024-08-16T17:35:57.983Z"
   },
   {
    "duration": 11,
    "start_time": "2024-08-16T17:36:00.242Z"
   },
   {
    "duration": 9,
    "start_time": "2024-08-16T17:36:06.460Z"
   },
   {
    "duration": 5,
    "start_time": "2024-08-16T17:36:08.028Z"
   },
   {
    "duration": 14,
    "start_time": "2024-08-16T17:36:09.791Z"
   },
   {
    "duration": 9,
    "start_time": "2024-08-16T17:37:12.024Z"
   },
   {
    "duration": 35,
    "start_time": "2024-08-16T17:37:12.038Z"
   },
   {
    "duration": 10,
    "start_time": "2024-08-16T17:37:12.076Z"
   },
   {
    "duration": 17,
    "start_time": "2024-08-16T17:37:12.104Z"
   },
   {
    "duration": 7,
    "start_time": "2024-08-16T17:37:12.124Z"
   },
   {
    "duration": 6,
    "start_time": "2024-08-16T17:37:12.135Z"
   },
   {
    "duration": 57,
    "start_time": "2024-08-16T17:37:12.145Z"
   },
   {
    "duration": 10,
    "start_time": "2024-08-16T17:37:12.205Z"
   },
   {
    "duration": 11,
    "start_time": "2024-08-16T17:37:12.219Z"
   },
   {
    "duration": 10,
    "start_time": "2024-08-16T17:37:12.238Z"
   },
   {
    "duration": 52,
    "start_time": "2024-08-16T17:37:12.252Z"
   },
   {
    "duration": 11,
    "start_time": "2024-08-16T17:37:12.307Z"
   },
   {
    "duration": 358,
    "start_time": "2024-08-16T17:37:12.321Z"
   },
   {
    "duration": 402,
    "start_time": "2024-08-16T17:37:12.682Z"
   },
   {
    "duration": 208,
    "start_time": "2024-08-16T17:37:13.089Z"
   },
   {
    "duration": 210,
    "start_time": "2024-08-16T17:37:13.302Z"
   },
   {
    "duration": 4,
    "start_time": "2024-08-16T17:37:13.515Z"
   },
   {
    "duration": 717,
    "start_time": "2024-08-16T17:37:13.523Z"
   },
   {
    "duration": 503,
    "start_time": "2024-08-16T17:37:14.244Z"
   },
   {
    "duration": 6,
    "start_time": "2024-08-16T17:37:14.751Z"
   },
   {
    "duration": 66,
    "start_time": "2024-08-16T17:37:14.760Z"
   },
   {
    "duration": 33,
    "start_time": "2024-08-16T17:37:14.830Z"
   },
   {
    "duration": 44,
    "start_time": "2024-08-16T17:37:14.866Z"
   },
   {
    "duration": 9,
    "start_time": "2024-08-16T17:37:14.913Z"
   },
   {
    "duration": 9,
    "start_time": "2024-08-16T17:37:14.926Z"
   },
   {
    "duration": 12,
    "start_time": "2024-08-16T17:37:14.939Z"
   },
   {
    "duration": 4,
    "start_time": "2024-08-16T17:37:14.956Z"
   },
   {
    "duration": 15,
    "start_time": "2024-08-16T17:37:15.010Z"
   },
   {
    "duration": 96,
    "start_time": "2024-08-16T17:37:15.029Z"
   },
   {
    "duration": 408,
    "start_time": "2024-08-16T17:37:15.132Z"
   },
   {
    "duration": 127,
    "start_time": "2024-08-16T17:37:15.543Z"
   },
   {
    "duration": 27,
    "start_time": "2024-08-16T17:37:15.674Z"
   },
   {
    "duration": 21,
    "start_time": "2024-08-16T17:37:15.704Z"
   },
   {
    "duration": 82,
    "start_time": "2024-08-16T17:37:15.728Z"
   },
   {
    "duration": 24,
    "start_time": "2024-08-16T17:39:08.891Z"
   },
   {
    "duration": 33,
    "start_time": "2024-08-16T17:39:09.353Z"
   },
   {
    "duration": 12,
    "start_time": "2024-08-16T17:39:09.814Z"
   },
   {
    "duration": 18,
    "start_time": "2024-08-16T17:39:12.198Z"
   },
   {
    "duration": 6,
    "start_time": "2024-08-16T17:39:12.861Z"
   },
   {
    "duration": 6,
    "start_time": "2024-08-16T17:39:13.345Z"
   },
   {
    "duration": 7,
    "start_time": "2024-08-16T17:39:13.765Z"
   },
   {
    "duration": 9,
    "start_time": "2024-08-16T17:39:14.245Z"
   },
   {
    "duration": 9,
    "start_time": "2024-08-16T17:39:14.690Z"
   },
   {
    "duration": 9,
    "start_time": "2024-08-16T17:39:15.342Z"
   },
   {
    "duration": 7,
    "start_time": "2024-08-16T17:39:17.783Z"
   },
   {
    "duration": 10,
    "start_time": "2024-08-16T17:39:18.241Z"
   },
   {
    "duration": 304,
    "start_time": "2024-08-16T17:39:20.537Z"
   },
   {
    "duration": 528,
    "start_time": "2024-08-16T17:39:23.644Z"
   },
   {
    "duration": 199,
    "start_time": "2024-08-16T17:39:29.782Z"
   },
   {
    "duration": 203,
    "start_time": "2024-08-16T17:39:32.565Z"
   },
   {
    "duration": 4,
    "start_time": "2024-08-16T17:39:35.989Z"
   },
   {
    "duration": 710,
    "start_time": "2024-08-16T17:39:36.678Z"
   },
   {
    "duration": 452,
    "start_time": "2024-08-16T17:39:39.784Z"
   },
   {
    "duration": 5,
    "start_time": "2024-08-16T17:39:43.831Z"
   },
   {
    "duration": 35,
    "start_time": "2024-08-16T17:39:44.653Z"
   },
   {
    "duration": 40,
    "start_time": "2024-08-16T17:39:47.093Z"
   },
   {
    "duration": 20,
    "start_time": "2024-08-16T17:39:49.677Z"
   },
   {
    "duration": 9,
    "start_time": "2024-08-16T17:39:50.357Z"
   },
   {
    "duration": 8,
    "start_time": "2024-08-16T17:39:51.389Z"
   },
   {
    "duration": 10,
    "start_time": "2024-08-16T17:39:55.025Z"
   },
   {
    "duration": 4,
    "start_time": "2024-08-16T17:39:56.847Z"
   },
   {
    "duration": 14,
    "start_time": "2024-08-16T17:39:59.409Z"
   },
   {
    "duration": 88,
    "start_time": "2024-08-16T17:40:03.215Z"
   },
   {
    "duration": 1965,
    "start_time": "2024-08-16T17:42:02.748Z"
   },
   {
    "duration": 37,
    "start_time": "2024-08-16T17:42:04.718Z"
   },
   {
    "duration": 15,
    "start_time": "2024-08-16T17:42:04.757Z"
   },
   {
    "duration": 39,
    "start_time": "2024-08-16T17:42:04.775Z"
   },
   {
    "duration": 7,
    "start_time": "2024-08-16T17:42:04.821Z"
   },
   {
    "duration": 7,
    "start_time": "2024-08-16T17:42:04.831Z"
   },
   {
    "duration": 7,
    "start_time": "2024-08-16T17:42:04.841Z"
   },
   {
    "duration": 58,
    "start_time": "2024-08-16T17:42:04.851Z"
   },
   {
    "duration": 15,
    "start_time": "2024-08-16T17:42:04.912Z"
   },
   {
    "duration": 10,
    "start_time": "2024-08-16T17:42:04.930Z"
   },
   {
    "duration": 7,
    "start_time": "2024-08-16T17:42:04.944Z"
   },
   {
    "duration": 47,
    "start_time": "2024-08-16T17:42:04.955Z"
   },
   {
    "duration": 356,
    "start_time": "2024-08-16T17:42:05.006Z"
   },
   {
    "duration": 412,
    "start_time": "2024-08-16T17:42:05.370Z"
   },
   {
    "duration": 318,
    "start_time": "2024-08-16T17:42:05.786Z"
   },
   {
    "duration": 217,
    "start_time": "2024-08-16T17:42:06.113Z"
   },
   {
    "duration": 6,
    "start_time": "2024-08-16T17:42:06.334Z"
   },
   {
    "duration": 737,
    "start_time": "2024-08-16T17:42:06.343Z"
   },
   {
    "duration": 496,
    "start_time": "2024-08-16T17:42:07.084Z"
   },
   {
    "duration": 18,
    "start_time": "2024-08-16T17:42:07.583Z"
   },
   {
    "duration": 43,
    "start_time": "2024-08-16T17:42:07.607Z"
   },
   {
    "duration": 56,
    "start_time": "2024-08-16T17:42:07.653Z"
   },
   {
    "duration": 17,
    "start_time": "2024-08-16T17:42:07.714Z"
   },
   {
    "duration": 9,
    "start_time": "2024-08-16T17:42:07.734Z"
   },
   {
    "duration": 10,
    "start_time": "2024-08-16T17:42:07.750Z"
   },
   {
    "duration": 43,
    "start_time": "2024-08-16T17:42:07.764Z"
   },
   {
    "duration": 6,
    "start_time": "2024-08-16T17:42:07.811Z"
   },
   {
    "duration": 15,
    "start_time": "2024-08-16T17:42:07.821Z"
   },
   {
    "duration": 73,
    "start_time": "2024-08-16T17:42:07.840Z"
   },
   {
    "duration": 438,
    "start_time": "2024-08-16T17:42:07.920Z"
   },
   {
    "duration": 122,
    "start_time": "2024-08-16T17:42:08.362Z"
   },
   {
    "duration": 26,
    "start_time": "2024-08-16T17:42:08.488Z"
   },
   {
    "duration": 85,
    "start_time": "2024-08-16T17:42:08.519Z"
   },
   {
    "duration": 18,
    "start_time": "2024-08-16T17:42:08.609Z"
   },
   {
    "duration": 30,
    "start_time": "2024-08-16T17:54:01.082Z"
   },
   {
    "duration": 7,
    "start_time": "2024-08-16T17:54:04.423Z"
   },
   {
    "duration": 33,
    "start_time": "2024-08-16T17:54:04.434Z"
   },
   {
    "duration": 30,
    "start_time": "2024-08-16T17:54:04.471Z"
   },
   {
    "duration": 17,
    "start_time": "2024-08-16T17:54:04.504Z"
   },
   {
    "duration": 6,
    "start_time": "2024-08-16T17:54:04.525Z"
   },
   {
    "duration": 6,
    "start_time": "2024-08-16T17:54:04.539Z"
   },
   {
    "duration": 6,
    "start_time": "2024-08-16T17:54:04.548Z"
   },
   {
    "duration": 53,
    "start_time": "2024-08-16T17:54:04.558Z"
   },
   {
    "duration": 14,
    "start_time": "2024-08-16T17:54:04.614Z"
   },
   {
    "duration": 10,
    "start_time": "2024-08-16T17:54:04.632Z"
   },
   {
    "duration": 8,
    "start_time": "2024-08-16T17:54:04.646Z"
   },
   {
    "duration": 10,
    "start_time": "2024-08-16T17:54:04.658Z"
   },
   {
    "duration": 331,
    "start_time": "2024-08-16T17:54:04.702Z"
   },
   {
    "duration": 366,
    "start_time": "2024-08-16T17:54:05.041Z"
   },
   {
    "duration": 198,
    "start_time": "2024-08-16T17:54:05.409Z"
   },
   {
    "duration": 211,
    "start_time": "2024-08-16T17:54:05.610Z"
   },
   {
    "duration": 13,
    "start_time": "2024-08-16T17:54:05.824Z"
   },
   {
    "duration": 709,
    "start_time": "2024-08-16T17:54:05.841Z"
   },
   {
    "duration": 621,
    "start_time": "2024-08-16T17:54:06.553Z"
   },
   {
    "duration": 5,
    "start_time": "2024-08-16T17:54:07.178Z"
   },
   {
    "duration": 38,
    "start_time": "2024-08-16T17:54:07.202Z"
   },
   {
    "duration": 33,
    "start_time": "2024-08-16T17:54:07.243Z"
   },
   {
    "duration": 36,
    "start_time": "2024-08-16T17:54:07.280Z"
   },
   {
    "duration": 13,
    "start_time": "2024-08-16T17:54:07.319Z"
   },
   {
    "duration": 8,
    "start_time": "2024-08-16T17:54:07.336Z"
   },
   {
    "duration": 9,
    "start_time": "2024-08-16T17:54:07.347Z"
   },
   {
    "duration": 4,
    "start_time": "2024-08-16T17:54:07.361Z"
   },
   {
    "duration": 14,
    "start_time": "2024-08-16T17:54:07.401Z"
   },
   {
    "duration": 90,
    "start_time": "2024-08-16T17:54:07.421Z"
   },
   {
    "duration": 422,
    "start_time": "2024-08-16T17:54:07.515Z"
   },
   {
    "duration": 112,
    "start_time": "2024-08-16T17:54:07.941Z"
   },
   {
    "duration": 17,
    "start_time": "2024-08-16T17:54:08.058Z"
   },
   {
    "duration": 102,
    "start_time": "2024-08-16T17:54:08.107Z"
   },
   {
    "duration": 14,
    "start_time": "2024-08-16T17:54:08.212Z"
   },
   {
    "duration": 27,
    "start_time": "2024-08-16T17:55:29.980Z"
   },
   {
    "duration": 43,
    "start_time": "2024-08-16T17:55:37.019Z"
   },
   {
    "duration": 6,
    "start_time": "2024-08-16T17:55:50.675Z"
   },
   {
    "duration": 7,
    "start_time": "2024-08-16T17:57:21.240Z"
   },
   {
    "duration": 7,
    "start_time": "2024-08-16T17:58:01.192Z"
   },
   {
    "duration": 14,
    "start_time": "2024-08-16T17:58:06.407Z"
   },
   {
    "duration": 32,
    "start_time": "2024-08-16T17:58:06.831Z"
   },
   {
    "duration": 10,
    "start_time": "2024-08-16T17:58:07.210Z"
   },
   {
    "duration": 16,
    "start_time": "2024-08-16T17:58:12.551Z"
   },
   {
    "duration": 6,
    "start_time": "2024-08-16T17:58:14.941Z"
   },
   {
    "duration": 7,
    "start_time": "2024-08-16T17:58:19.517Z"
   },
   {
    "duration": 7,
    "start_time": "2024-08-16T17:58:21.286Z"
   },
   {
    "duration": 11,
    "start_time": "2024-08-16T17:58:22.207Z"
   },
   {
    "duration": 10,
    "start_time": "2024-08-16T17:58:23.911Z"
   },
   {
    "duration": 15,
    "start_time": "2024-08-16T17:58:26.311Z"
   },
   {
    "duration": 7,
    "start_time": "2024-08-16T17:58:29.607Z"
   },
   {
    "duration": 9,
    "start_time": "2024-08-16T17:58:30.709Z"
   },
   {
    "duration": 8,
    "start_time": "2024-08-16T17:58:31.774Z"
   },
   {
    "duration": 292,
    "start_time": "2024-08-16T17:58:40.589Z"
   },
   {
    "duration": 362,
    "start_time": "2024-08-16T17:58:50.658Z"
   },
   {
    "duration": 208,
    "start_time": "2024-08-16T17:58:54.756Z"
   },
   {
    "duration": 204,
    "start_time": "2024-08-16T17:58:59.364Z"
   },
   {
    "duration": 7,
    "start_time": "2024-08-16T17:59:07.102Z"
   },
   {
    "duration": 4,
    "start_time": "2024-08-16T17:59:11.937Z"
   },
   {
    "duration": 690,
    "start_time": "2024-08-16T17:59:13.241Z"
   },
   {
    "duration": 7,
    "start_time": "2024-08-16T17:59:21.513Z"
   },
   {
    "duration": 515,
    "start_time": "2024-08-16T17:59:26.761Z"
   },
   {
    "duration": 6,
    "start_time": "2024-08-16T17:59:34.387Z"
   },
   {
    "duration": 4,
    "start_time": "2024-08-16T17:59:40.352Z"
   },
   {
    "duration": 36,
    "start_time": "2024-08-16T17:59:44.991Z"
   },
   {
    "duration": 7,
    "start_time": "2024-08-16T17:59:50.705Z"
   },
   {
    "duration": 38,
    "start_time": "2024-08-16T17:59:54.569Z"
   },
   {
    "duration": 22,
    "start_time": "2024-08-16T18:00:03.324Z"
   },
   {
    "duration": 6,
    "start_time": "2024-08-16T18:00:09.027Z"
   },
   {
    "duration": 8,
    "start_time": "2024-08-16T18:00:18.521Z"
   },
   {
    "duration": 8,
    "start_time": "2024-08-16T18:00:20.087Z"
   },
   {
    "duration": 22,
    "start_time": "2024-08-16T18:00:36.947Z"
   },
   {
    "duration": 7,
    "start_time": "2024-08-16T18:00:39.176Z"
   },
   {
    "duration": 6,
    "start_time": "2024-08-16T18:00:45.634Z"
   },
   {
    "duration": 38,
    "start_time": "2024-08-16T18:00:47.030Z"
   },
   {
    "duration": 9,
    "start_time": "2024-08-16T18:00:47.474Z"
   },
   {
    "duration": 15,
    "start_time": "2024-08-16T18:00:49.063Z"
   },
   {
    "duration": 7,
    "start_time": "2024-08-16T18:00:49.723Z"
   },
   {
    "duration": 6,
    "start_time": "2024-08-16T18:00:50.344Z"
   },
   {
    "duration": 6,
    "start_time": "2024-08-16T18:00:51.875Z"
   },
   {
    "duration": 9,
    "start_time": "2024-08-16T18:00:52.771Z"
   },
   {
    "duration": 9,
    "start_time": "2024-08-16T18:00:53.752Z"
   },
   {
    "duration": 9,
    "start_time": "2024-08-16T18:00:54.545Z"
   },
   {
    "duration": 6,
    "start_time": "2024-08-16T18:00:56.912Z"
   },
   {
    "duration": 8,
    "start_time": "2024-08-16T18:00:57.543Z"
   },
   {
    "duration": 295,
    "start_time": "2024-08-16T18:00:59.711Z"
   },
   {
    "duration": 363,
    "start_time": "2024-08-16T18:01:03.623Z"
   },
   {
    "duration": 204,
    "start_time": "2024-08-16T18:01:04.511Z"
   },
   {
    "duration": 204,
    "start_time": "2024-08-16T18:01:06.704Z"
   },
   {
    "duration": 4,
    "start_time": "2024-08-16T18:01:10.003Z"
   },
   {
    "duration": 679,
    "start_time": "2024-08-16T18:01:10.608Z"
   },
   {
    "duration": 576,
    "start_time": "2024-08-16T18:01:14.499Z"
   },
   {
    "duration": 10,
    "start_time": "2024-08-16T18:01:18.321Z"
   },
   {
    "duration": 34,
    "start_time": "2024-08-16T18:01:20.823Z"
   },
   {
    "duration": 6,
    "start_time": "2024-08-16T18:01:22.095Z"
   },
   {
    "duration": 36,
    "start_time": "2024-08-16T18:01:25.118Z"
   },
   {
    "duration": 13,
    "start_time": "2024-08-16T18:01:28.255Z"
   },
   {
    "duration": 5,
    "start_time": "2024-08-16T18:01:29.302Z"
   },
   {
    "duration": 8,
    "start_time": "2024-08-16T18:01:33.059Z"
   },
   {
    "duration": 7,
    "start_time": "2024-08-16T18:01:34.391Z"
   },
   {
    "duration": 9,
    "start_time": "2024-08-16T18:01:39.211Z"
   },
   {
    "duration": 4,
    "start_time": "2024-08-16T18:01:40.767Z"
   },
   {
    "duration": 12,
    "start_time": "2024-08-16T18:01:43.068Z"
   },
   {
    "duration": 101,
    "start_time": "2024-08-16T18:01:47.308Z"
   },
   {
    "duration": 168,
    "start_time": "2024-08-16T18:01:54.978Z"
   },
   {
    "duration": 65,
    "start_time": "2024-08-16T18:01:59.842Z"
   },
   {
    "duration": 9,
    "start_time": "2024-08-16T18:02:03.579Z"
   },
   {
    "duration": 11,
    "start_time": "2024-08-16T18:02:09.771Z"
   },
   {
    "duration": 10,
    "start_time": "2024-08-16T18:02:11.571Z"
   },
   {
    "duration": 23,
    "start_time": "2024-08-16T18:02:35.859Z"
   },
   {
    "duration": 6,
    "start_time": "2024-08-16T18:02:36.894Z"
   },
   {
    "duration": 30,
    "start_time": "2024-08-16T18:02:41.291Z"
   },
   {
    "duration": 9,
    "start_time": "2024-08-16T18:02:44.673Z"
   },
   {
    "duration": 6,
    "start_time": "2024-08-16T18:02:45.319Z"
   },
   {
    "duration": 9,
    "start_time": "2024-08-16T18:02:47.639Z"
   },
   {
    "duration": 8,
    "start_time": "2024-08-16T18:02:48.490Z"
   },
   {
    "duration": 9,
    "start_time": "2024-08-16T18:02:52.530Z"
   },
   {
    "duration": 4,
    "start_time": "2024-08-16T18:02:54.082Z"
   },
   {
    "duration": 11,
    "start_time": "2024-08-16T18:02:56.019Z"
   },
   {
    "duration": 64,
    "start_time": "2024-08-16T18:02:59.037Z"
   },
   {
    "duration": 186,
    "start_time": "2024-08-16T18:03:02.326Z"
   },
   {
    "duration": 72,
    "start_time": "2024-08-16T18:03:08.397Z"
   },
   {
    "duration": 8,
    "start_time": "2024-08-16T18:03:11.499Z"
   },
   {
    "duration": 7,
    "start_time": "2024-08-16T18:03:17.914Z"
   },
   {
    "duration": 30,
    "start_time": "2024-08-16T18:03:18.354Z"
   },
   {
    "duration": 10,
    "start_time": "2024-08-16T18:03:18.794Z"
   },
   {
    "duration": 16,
    "start_time": "2024-08-16T18:03:20.450Z"
   },
   {
    "duration": 6,
    "start_time": "2024-08-16T18:03:20.898Z"
   },
   {
    "duration": 6,
    "start_time": "2024-08-16T18:03:21.321Z"
   },
   {
    "duration": 6,
    "start_time": "2024-08-16T18:03:21.854Z"
   },
   {
    "duration": 8,
    "start_time": "2024-08-16T18:03:22.258Z"
   },
   {
    "duration": 8,
    "start_time": "2024-08-16T18:03:23.925Z"
   },
   {
    "duration": 9,
    "start_time": "2024-08-16T18:03:24.539Z"
   },
   {
    "duration": 9,
    "start_time": "2024-08-16T18:03:25.730Z"
   },
   {
    "duration": 8,
    "start_time": "2024-08-16T18:03:26.641Z"
   },
   {
    "duration": 291,
    "start_time": "2024-08-16T18:03:28.946Z"
   },
   {
    "duration": 383,
    "start_time": "2024-08-16T18:03:30.467Z"
   },
   {
    "duration": 185,
    "start_time": "2024-08-16T18:03:30.874Z"
   },
   {
    "duration": 180,
    "start_time": "2024-08-16T18:03:34.490Z"
   },
   {
    "duration": 5,
    "start_time": "2024-08-16T18:03:36.270Z"
   },
   {
    "duration": 674,
    "start_time": "2024-08-16T18:03:38.309Z"
   },
   {
    "duration": 459,
    "start_time": "2024-08-16T18:03:41.226Z"
   },
   {
    "duration": 4,
    "start_time": "2024-08-16T18:03:44.946Z"
   },
   {
    "duration": 29,
    "start_time": "2024-08-16T18:03:46.114Z"
   },
   {
    "duration": 6,
    "start_time": "2024-08-16T18:03:50.131Z"
   },
   {
    "duration": 37,
    "start_time": "2024-08-16T18:03:51.467Z"
   },
   {
    "duration": 12,
    "start_time": "2024-08-16T18:03:55.418Z"
   },
   {
    "duration": 6,
    "start_time": "2024-08-16T18:03:56.057Z"
   },
   {
    "duration": 13,
    "start_time": "2024-08-16T18:03:57.121Z"
   },
   {
    "duration": 9,
    "start_time": "2024-08-16T18:03:57.934Z"
   },
   {
    "duration": 9,
    "start_time": "2024-08-16T18:03:59.984Z"
   },
   {
    "duration": 4,
    "start_time": "2024-08-16T18:04:00.681Z"
   },
   {
    "duration": 12,
    "start_time": "2024-08-16T18:04:01.414Z"
   },
   {
    "duration": 33,
    "start_time": "2024-08-16T18:04:14.602Z"
   },
   {
    "duration": 224,
    "start_time": "2024-08-16T18:04:22.246Z"
   },
   {
    "duration": 75,
    "start_time": "2024-08-16T18:04:26.570Z"
   },
   {
    "duration": 10,
    "start_time": "2024-08-16T18:04:33.661Z"
   },
   {
    "duration": 13,
    "start_time": "2024-08-16T18:04:38.677Z"
   },
   {
    "duration": 10,
    "start_time": "2024-08-16T18:04:41.877Z"
   },
   {
    "duration": 26,
    "start_time": "2024-08-16T18:07:30.281Z"
   },
   {
    "duration": 6,
    "start_time": "2024-08-16T18:07:32.970Z"
   },
   {
    "duration": 7,
    "start_time": "2024-08-16T18:07:44.042Z"
   },
   {
    "duration": 48,
    "start_time": "2024-08-16T18:07:44.053Z"
   },
   {
    "duration": 14,
    "start_time": "2024-08-16T18:07:44.106Z"
   },
   {
    "duration": 18,
    "start_time": "2024-08-16T18:07:44.125Z"
   },
   {
    "duration": 8,
    "start_time": "2024-08-16T18:07:44.147Z"
   },
   {
    "duration": 15,
    "start_time": "2024-08-16T18:07:44.208Z"
   },
   {
    "duration": 13,
    "start_time": "2024-08-16T18:07:44.230Z"
   },
   {
    "duration": 9,
    "start_time": "2024-08-16T18:07:44.248Z"
   },
   {
    "duration": 11,
    "start_time": "2024-08-16T18:07:44.301Z"
   },
   {
    "duration": 13,
    "start_time": "2024-08-16T18:07:44.320Z"
   },
   {
    "duration": 7,
    "start_time": "2024-08-16T18:07:44.337Z"
   },
   {
    "duration": 54,
    "start_time": "2024-08-16T18:07:44.348Z"
   },
   {
    "duration": 327,
    "start_time": "2024-08-16T18:07:44.406Z"
   },
   {
    "duration": 401,
    "start_time": "2024-08-16T18:07:44.736Z"
   },
   {
    "duration": 225,
    "start_time": "2024-08-16T18:07:45.140Z"
   },
   {
    "duration": 228,
    "start_time": "2024-08-16T18:07:45.369Z"
   },
   {
    "duration": 5,
    "start_time": "2024-08-16T18:07:45.600Z"
   },
   {
    "duration": 768,
    "start_time": "2024-08-16T18:07:45.609Z"
   },
   {
    "duration": 628,
    "start_time": "2024-08-16T18:07:46.380Z"
   },
   {
    "duration": 4,
    "start_time": "2024-08-16T18:07:51.783Z"
   },
   {
    "duration": 41,
    "start_time": "2024-08-16T18:07:54.179Z"
   },
   {
    "duration": 13,
    "start_time": "2024-08-16T18:07:57.044Z"
   },
   {
    "duration": 41,
    "start_time": "2024-08-16T18:07:58.105Z"
   },
   {
    "duration": 12,
    "start_time": "2024-08-16T18:08:02.324Z"
   },
   {
    "duration": 6,
    "start_time": "2024-08-16T18:08:03.351Z"
   },
   {
    "duration": 9,
    "start_time": "2024-08-16T18:08:04.788Z"
   },
   {
    "duration": 10,
    "start_time": "2024-08-16T18:08:06.208Z"
   },
   {
    "duration": 14,
    "start_time": "2024-08-16T18:08:10.223Z"
   },
   {
    "duration": 7,
    "start_time": "2024-08-16T18:08:12.415Z"
   },
   {
    "duration": 11,
    "start_time": "2024-08-16T18:08:13.463Z"
   },
   {
    "duration": 89,
    "start_time": "2024-08-16T18:08:15.831Z"
   },
   {
    "duration": 181,
    "start_time": "2024-08-16T18:08:22.583Z"
   },
   {
    "duration": 78,
    "start_time": "2024-08-16T18:08:27.081Z"
   },
   {
    "duration": 15,
    "start_time": "2024-08-16T18:08:29.784Z"
   },
   {
    "duration": 12,
    "start_time": "2024-08-16T18:08:34.063Z"
   },
   {
    "duration": 19,
    "start_time": "2024-08-16T18:08:35.824Z"
   },
   {
    "duration": 6,
    "start_time": "2024-08-16T18:09:32.397Z"
   },
   {
    "duration": 27,
    "start_time": "2024-08-16T18:09:33.099Z"
   },
   {
    "duration": 6,
    "start_time": "2024-08-16T18:09:34.178Z"
   },
   {
    "duration": 8,
    "start_time": "2024-08-16T18:09:40.566Z"
   },
   {
    "duration": 36,
    "start_time": "2024-08-16T18:09:40.580Z"
   },
   {
    "duration": 16,
    "start_time": "2024-08-16T18:09:40.619Z"
   },
   {
    "duration": 23,
    "start_time": "2024-08-16T18:09:40.639Z"
   },
   {
    "duration": 8,
    "start_time": "2024-08-16T18:09:40.671Z"
   },
   {
    "duration": 22,
    "start_time": "2024-08-16T18:09:40.682Z"
   },
   {
    "duration": 7,
    "start_time": "2024-08-16T18:09:40.708Z"
   },
   {
    "duration": 10,
    "start_time": "2024-08-16T18:09:40.719Z"
   },
   {
    "duration": 14,
    "start_time": "2024-08-16T18:09:40.732Z"
   },
   {
    "duration": 9,
    "start_time": "2024-08-16T18:09:40.750Z"
   },
   {
    "duration": 5,
    "start_time": "2024-08-16T18:09:40.803Z"
   },
   {
    "duration": 11,
    "start_time": "2024-08-16T18:09:40.811Z"
   },
   {
    "duration": 317,
    "start_time": "2024-08-16T18:09:40.826Z"
   },
   {
    "duration": 382,
    "start_time": "2024-08-16T18:09:41.149Z"
   },
   {
    "duration": 210,
    "start_time": "2024-08-16T18:09:41.534Z"
   },
   {
    "duration": 200,
    "start_time": "2024-08-16T18:09:41.749Z"
   },
   {
    "duration": 4,
    "start_time": "2024-08-16T18:09:41.952Z"
   },
   {
    "duration": 703,
    "start_time": "2024-08-16T18:09:41.959Z"
   },
   {
    "duration": 482,
    "start_time": "2024-08-16T18:09:42.665Z"
   },
   {
    "duration": 4,
    "start_time": "2024-08-16T18:09:45.938Z"
   },
   {
    "duration": 26,
    "start_time": "2024-08-16T18:09:46.745Z"
   },
   {
    "duration": 6,
    "start_time": "2024-08-16T18:09:50.031Z"
   },
   {
    "duration": 41,
    "start_time": "2024-08-16T18:09:51.292Z"
   },
   {
    "duration": 15,
    "start_time": "2024-08-16T18:09:57.490Z"
   },
   {
    "duration": 5,
    "start_time": "2024-08-16T18:09:58.035Z"
   },
   {
    "duration": 10,
    "start_time": "2024-08-16T18:09:59.155Z"
   },
   {
    "duration": 10,
    "start_time": "2024-08-16T18:09:59.662Z"
   },
   {
    "duration": 13,
    "start_time": "2024-08-16T18:10:05.581Z"
   },
   {
    "duration": 4,
    "start_time": "2024-08-16T18:10:06.670Z"
   },
   {
    "duration": 12,
    "start_time": "2024-08-16T18:10:07.242Z"
   },
   {
    "duration": 29,
    "start_time": "2024-08-16T18:10:10.855Z"
   },
   {
    "duration": 162,
    "start_time": "2024-08-16T18:10:14.490Z"
   },
   {
    "duration": 65,
    "start_time": "2024-08-16T18:10:17.138Z"
   },
   {
    "duration": 17,
    "start_time": "2024-08-16T18:10:20.011Z"
   },
   {
    "duration": 7,
    "start_time": "2024-08-16T18:10:40.262Z"
   },
   {
    "duration": 33,
    "start_time": "2024-08-16T18:10:40.273Z"
   },
   {
    "duration": 15,
    "start_time": "2024-08-16T18:10:40.309Z"
   },
   {
    "duration": 15,
    "start_time": "2024-08-16T18:10:40.328Z"
   },
   {
    "duration": 10,
    "start_time": "2024-08-16T18:10:40.348Z"
   },
   {
    "duration": 47,
    "start_time": "2024-08-16T18:10:40.362Z"
   },
   {
    "duration": 10,
    "start_time": "2024-08-16T18:10:40.412Z"
   },
   {
    "duration": 11,
    "start_time": "2024-08-16T18:10:40.427Z"
   },
   {
    "duration": 11,
    "start_time": "2024-08-16T18:10:40.442Z"
   },
   {
    "duration": 48,
    "start_time": "2024-08-16T18:10:40.457Z"
   },
   {
    "duration": 10,
    "start_time": "2024-08-16T18:10:40.509Z"
   },
   {
    "duration": 12,
    "start_time": "2024-08-16T18:10:40.523Z"
   },
   {
    "duration": 347,
    "start_time": "2024-08-16T18:10:40.539Z"
   },
   {
    "duration": 380,
    "start_time": "2024-08-16T18:10:40.901Z"
   },
   {
    "duration": 236,
    "start_time": "2024-08-16T18:10:41.285Z"
   },
   {
    "duration": 204,
    "start_time": "2024-08-16T18:10:41.524Z"
   },
   {
    "duration": 4,
    "start_time": "2024-08-16T18:10:41.732Z"
   },
   {
    "duration": 731,
    "start_time": "2024-08-16T18:10:41.741Z"
   },
   {
    "duration": 654,
    "start_time": "2024-08-16T18:10:42.476Z"
   },
   {
    "duration": 5,
    "start_time": "2024-08-16T18:10:46.257Z"
   },
   {
    "duration": 33,
    "start_time": "2024-08-16T18:10:46.677Z"
   },
   {
    "duration": 7,
    "start_time": "2024-08-16T18:10:49.090Z"
   },
   {
    "duration": 35,
    "start_time": "2024-08-16T18:10:49.650Z"
   },
   {
    "duration": 11,
    "start_time": "2024-08-16T18:10:55.037Z"
   },
   {
    "duration": 10,
    "start_time": "2024-08-16T18:10:56.218Z"
   },
   {
    "duration": 8,
    "start_time": "2024-08-16T18:10:57.365Z"
   },
   {
    "duration": 9,
    "start_time": "2024-08-16T18:10:57.906Z"
   },
   {
    "duration": 11,
    "start_time": "2024-08-16T18:11:04.001Z"
   },
   {
    "duration": 4,
    "start_time": "2024-08-16T18:11:05.085Z"
   },
   {
    "duration": 19,
    "start_time": "2024-08-16T18:11:05.789Z"
   },
   {
    "duration": 31,
    "start_time": "2024-08-16T18:11:09.527Z"
   },
   {
    "duration": 137,
    "start_time": "2024-08-16T18:11:13.026Z"
   },
   {
    "duration": 57,
    "start_time": "2024-08-16T18:11:16.050Z"
   },
   {
    "duration": 11,
    "start_time": "2024-08-16T18:11:18.138Z"
   },
   {
    "duration": 7,
    "start_time": "2024-08-16T18:11:52.469Z"
   },
   {
    "duration": 49,
    "start_time": "2024-08-16T18:11:52.481Z"
   },
   {
    "duration": 10,
    "start_time": "2024-08-16T18:11:52.533Z"
   },
   {
    "duration": 14,
    "start_time": "2024-08-16T18:11:52.547Z"
   },
   {
    "duration": 7,
    "start_time": "2024-08-16T18:11:52.567Z"
   },
   {
    "duration": 34,
    "start_time": "2024-08-16T18:11:52.577Z"
   },
   {
    "duration": 5,
    "start_time": "2024-08-16T18:11:52.614Z"
   },
   {
    "duration": 10,
    "start_time": "2024-08-16T18:11:52.622Z"
   },
   {
    "duration": 9,
    "start_time": "2024-08-16T18:11:52.635Z"
   },
   {
    "duration": 10,
    "start_time": "2024-08-16T18:11:52.647Z"
   },
   {
    "duration": 55,
    "start_time": "2024-08-16T18:11:52.661Z"
   },
   {
    "duration": 9,
    "start_time": "2024-08-16T18:11:52.722Z"
   },
   {
    "duration": 317,
    "start_time": "2024-08-16T18:11:52.735Z"
   },
   {
    "duration": 368,
    "start_time": "2024-08-16T18:11:53.058Z"
   },
   {
    "duration": 207,
    "start_time": "2024-08-16T18:11:53.429Z"
   },
   {
    "duration": 196,
    "start_time": "2024-08-16T18:11:53.639Z"
   },
   {
    "duration": 4,
    "start_time": "2024-08-16T18:11:53.839Z"
   },
   {
    "duration": 690,
    "start_time": "2024-08-16T18:11:53.847Z"
   },
   {
    "duration": 476,
    "start_time": "2024-08-16T18:11:54.540Z"
   },
   {
    "duration": 4,
    "start_time": "2024-08-16T18:11:57.837Z"
   },
   {
    "duration": 23,
    "start_time": "2024-08-16T18:11:58.435Z"
   },
   {
    "duration": 6,
    "start_time": "2024-08-16T18:12:01.168Z"
   },
   {
    "duration": 31,
    "start_time": "2024-08-16T18:12:02.208Z"
   },
   {
    "duration": 12,
    "start_time": "2024-08-16T18:12:04.301Z"
   },
   {
    "duration": 7,
    "start_time": "2024-08-16T18:12:04.667Z"
   },
   {
    "duration": 8,
    "start_time": "2024-08-16T18:12:05.816Z"
   },
   {
    "duration": 7,
    "start_time": "2024-08-16T18:12:06.460Z"
   },
   {
    "duration": 10,
    "start_time": "2024-08-16T18:12:12.283Z"
   },
   {
    "duration": 4,
    "start_time": "2024-08-16T18:12:13.168Z"
   },
   {
    "duration": 16,
    "start_time": "2024-08-16T18:12:14.517Z"
   },
   {
    "duration": 91,
    "start_time": "2024-08-16T18:12:18.110Z"
   },
   {
    "duration": 130,
    "start_time": "2024-08-16T18:12:20.565Z"
   },
   {
    "duration": 52,
    "start_time": "2024-08-16T18:12:23.519Z"
   },
   {
    "duration": 10,
    "start_time": "2024-08-16T18:12:26.165Z"
   },
   {
    "duration": 6,
    "start_time": "2024-08-16T18:12:46.338Z"
   },
   {
    "duration": 32,
    "start_time": "2024-08-16T18:12:46.349Z"
   },
   {
    "duration": 20,
    "start_time": "2024-08-16T18:12:46.384Z"
   },
   {
    "duration": 18,
    "start_time": "2024-08-16T18:12:46.411Z"
   },
   {
    "duration": 8,
    "start_time": "2024-08-16T18:12:46.436Z"
   },
   {
    "duration": 9,
    "start_time": "2024-08-16T18:12:46.449Z"
   },
   {
    "duration": 49,
    "start_time": "2024-08-16T18:12:46.462Z"
   },
   {
    "duration": 12,
    "start_time": "2024-08-16T18:12:46.516Z"
   },
   {
    "duration": 10,
    "start_time": "2024-08-16T18:12:46.531Z"
   },
   {
    "duration": 56,
    "start_time": "2024-08-16T18:12:46.547Z"
   },
   {
    "duration": 11,
    "start_time": "2024-08-16T18:12:46.607Z"
   },
   {
    "duration": 12,
    "start_time": "2024-08-16T18:12:46.623Z"
   },
   {
    "duration": 387,
    "start_time": "2024-08-16T18:12:46.638Z"
   },
   {
    "duration": 424,
    "start_time": "2024-08-16T18:12:47.029Z"
   },
   {
    "duration": 213,
    "start_time": "2024-08-16T18:12:47.457Z"
   },
   {
    "duration": 217,
    "start_time": "2024-08-16T18:12:47.674Z"
   },
   {
    "duration": 11,
    "start_time": "2024-08-16T18:12:47.904Z"
   },
   {
    "duration": 887,
    "start_time": "2024-08-16T18:12:47.918Z"
   },
   {
    "duration": 513,
    "start_time": "2024-08-16T18:12:48.810Z"
   },
   {
    "duration": 5,
    "start_time": "2024-08-16T18:12:52.996Z"
   },
   {
    "duration": 28,
    "start_time": "2024-08-16T18:12:55.336Z"
   },
   {
    "duration": 13,
    "start_time": "2024-08-16T18:12:58.207Z"
   },
   {
    "duration": 33,
    "start_time": "2024-08-16T18:12:59.852Z"
   },
   {
    "duration": 17,
    "start_time": "2024-08-16T18:13:02.476Z"
   },
   {
    "duration": 7,
    "start_time": "2024-08-16T18:13:03.323Z"
   },
   {
    "duration": 9,
    "start_time": "2024-08-16T18:13:04.698Z"
   },
   {
    "duration": 10,
    "start_time": "2024-08-16T18:13:05.677Z"
   },
   {
    "duration": 13,
    "start_time": "2024-08-16T18:13:09.683Z"
   },
   {
    "duration": 4,
    "start_time": "2024-08-16T18:13:10.595Z"
   },
   {
    "duration": 18,
    "start_time": "2024-08-16T18:13:11.055Z"
   },
   {
    "duration": 32,
    "start_time": "2024-08-16T18:13:13.611Z"
   },
   {
    "duration": 169,
    "start_time": "2024-08-16T18:13:19.491Z"
   },
   {
    "duration": 66,
    "start_time": "2024-08-16T18:13:21.914Z"
   },
   {
    "duration": 15,
    "start_time": "2024-08-16T18:13:25.139Z"
   },
   {
    "duration": 6,
    "start_time": "2024-08-16T18:13:45.639Z"
   },
   {
    "duration": 30,
    "start_time": "2024-08-16T18:13:45.650Z"
   },
   {
    "duration": 12,
    "start_time": "2024-08-16T18:13:45.683Z"
   },
   {
    "duration": 33,
    "start_time": "2024-08-16T18:13:45.699Z"
   },
   {
    "duration": 6,
    "start_time": "2024-08-16T18:13:45.740Z"
   },
   {
    "duration": 6,
    "start_time": "2024-08-16T18:13:45.750Z"
   },
   {
    "duration": 6,
    "start_time": "2024-08-16T18:13:45.760Z"
   },
   {
    "duration": 35,
    "start_time": "2024-08-16T18:13:45.769Z"
   },
   {
    "duration": 9,
    "start_time": "2024-08-16T18:13:45.811Z"
   },
   {
    "duration": 13,
    "start_time": "2024-08-16T18:13:45.823Z"
   },
   {
    "duration": 7,
    "start_time": "2024-08-16T18:13:45.839Z"
   },
   {
    "duration": 9,
    "start_time": "2024-08-16T18:13:45.849Z"
   },
   {
    "duration": 363,
    "start_time": "2024-08-16T18:13:45.861Z"
   },
   {
    "duration": 542,
    "start_time": "2024-08-16T18:13:46.233Z"
   },
   {
    "duration": 210,
    "start_time": "2024-08-16T18:13:46.778Z"
   },
   {
    "duration": 199,
    "start_time": "2024-08-16T18:13:46.991Z"
   },
   {
    "duration": 28,
    "start_time": "2024-08-16T18:13:47.193Z"
   },
   {
    "duration": 694,
    "start_time": "2024-08-16T18:13:47.227Z"
   },
   {
    "duration": 492,
    "start_time": "2024-08-16T18:13:47.925Z"
   },
   {
    "duration": 5,
    "start_time": "2024-08-16T18:13:51.947Z"
   },
   {
    "duration": 32,
    "start_time": "2024-08-16T18:13:53.432Z"
   },
   {
    "duration": 6,
    "start_time": "2024-08-16T18:13:55.243Z"
   },
   {
    "duration": 36,
    "start_time": "2024-08-16T18:13:57.487Z"
   },
   {
    "duration": 14,
    "start_time": "2024-08-16T18:14:01.487Z"
   },
   {
    "duration": 7,
    "start_time": "2024-08-16T18:14:02.072Z"
   },
   {
    "duration": 21,
    "start_time": "2024-08-16T18:14:04.419Z"
   },
   {
    "duration": 9,
    "start_time": "2024-08-16T18:14:05.005Z"
   },
   {
    "duration": 17,
    "start_time": "2024-08-16T18:14:07.660Z"
   },
   {
    "duration": 4,
    "start_time": "2024-08-16T18:14:08.985Z"
   },
   {
    "duration": 15,
    "start_time": "2024-08-16T18:14:09.524Z"
   },
   {
    "duration": 23,
    "start_time": "2024-08-16T18:14:12.347Z"
   },
   {
    "duration": 183,
    "start_time": "2024-08-16T18:14:14.783Z"
   },
   {
    "duration": 73,
    "start_time": "2024-08-16T18:14:17.359Z"
   },
   {
    "duration": 16,
    "start_time": "2024-08-16T18:14:20.861Z"
   },
   {
    "duration": 10,
    "start_time": "2024-08-16T18:14:35.043Z"
   },
   {
    "duration": 36,
    "start_time": "2024-08-16T18:14:35.059Z"
   },
   {
    "duration": 11,
    "start_time": "2024-08-16T18:14:35.098Z"
   },
   {
    "duration": 17,
    "start_time": "2024-08-16T18:14:35.114Z"
   },
   {
    "duration": 8,
    "start_time": "2024-08-16T18:14:35.134Z"
   },
   {
    "duration": 7,
    "start_time": "2024-08-16T18:14:35.145Z"
   },
   {
    "duration": 7,
    "start_time": "2024-08-16T18:14:35.203Z"
   },
   {
    "duration": 10,
    "start_time": "2024-08-16T18:14:35.214Z"
   },
   {
    "duration": 12,
    "start_time": "2024-08-16T18:14:35.228Z"
   },
   {
    "duration": 62,
    "start_time": "2024-08-16T18:14:35.248Z"
   },
   {
    "duration": 7,
    "start_time": "2024-08-16T18:14:35.313Z"
   },
   {
    "duration": 11,
    "start_time": "2024-08-16T18:14:35.325Z"
   },
   {
    "duration": 348,
    "start_time": "2024-08-16T18:14:35.344Z"
   },
   {
    "duration": 415,
    "start_time": "2024-08-16T18:14:35.696Z"
   },
   {
    "duration": 262,
    "start_time": "2024-08-16T18:14:36.115Z"
   },
   {
    "duration": 228,
    "start_time": "2024-08-16T18:14:36.381Z"
   },
   {
    "duration": 5,
    "start_time": "2024-08-16T18:14:36.613Z"
   },
   {
    "duration": 762,
    "start_time": "2024-08-16T18:14:36.622Z"
   },
   {
    "duration": 517,
    "start_time": "2024-08-16T18:14:37.388Z"
   },
   {
    "duration": 4,
    "start_time": "2024-08-16T18:14:40.559Z"
   },
   {
    "duration": 32,
    "start_time": "2024-08-16T18:14:41.406Z"
   },
   {
    "duration": 5,
    "start_time": "2024-08-16T18:14:44.399Z"
   },
   {
    "duration": 33,
    "start_time": "2024-08-16T18:14:46.323Z"
   },
   {
    "duration": 14,
    "start_time": "2024-08-16T18:14:49.934Z"
   },
   {
    "duration": 6,
    "start_time": "2024-08-16T18:14:50.687Z"
   },
   {
    "duration": 8,
    "start_time": "2024-08-16T18:14:52.174Z"
   },
   {
    "duration": 8,
    "start_time": "2024-08-16T18:14:53.974Z"
   },
   {
    "duration": 12,
    "start_time": "2024-08-16T18:15:03.934Z"
   },
   {
    "duration": 7,
    "start_time": "2024-08-16T18:15:05.158Z"
   },
   {
    "duration": 14,
    "start_time": "2024-08-16T18:15:05.807Z"
   },
   {
    "duration": 68,
    "start_time": "2024-08-16T18:15:10.142Z"
   },
   {
    "duration": 205,
    "start_time": "2024-08-16T18:15:16.411Z"
   },
   {
    "duration": 80,
    "start_time": "2024-08-16T18:15:19.046Z"
   },
   {
    "duration": 13,
    "start_time": "2024-08-16T18:15:22.822Z"
   },
   {
    "duration": 13,
    "start_time": "2024-08-16T18:15:25.370Z"
   },
   {
    "duration": 16,
    "start_time": "2024-08-16T18:15:26.399Z"
   },
   {
    "duration": 8,
    "start_time": "2024-08-16T18:16:27.952Z"
   },
   {
    "duration": 36,
    "start_time": "2024-08-16T18:16:27.966Z"
   },
   {
    "duration": 14,
    "start_time": "2024-08-16T18:16:28.006Z"
   },
   {
    "duration": 16,
    "start_time": "2024-08-16T18:16:28.025Z"
   },
   {
    "duration": 13,
    "start_time": "2024-08-16T18:16:28.045Z"
   },
   {
    "duration": 41,
    "start_time": "2024-08-16T18:16:28.061Z"
   },
   {
    "duration": 6,
    "start_time": "2024-08-16T18:16:28.106Z"
   },
   {
    "duration": 11,
    "start_time": "2024-08-16T18:16:28.116Z"
   },
   {
    "duration": 10,
    "start_time": "2024-08-16T18:16:28.131Z"
   },
   {
    "duration": 55,
    "start_time": "2024-08-16T18:16:28.149Z"
   },
   {
    "duration": 8,
    "start_time": "2024-08-16T18:16:28.208Z"
   },
   {
    "duration": 14,
    "start_time": "2024-08-16T18:16:28.219Z"
   },
   {
    "duration": 353,
    "start_time": "2024-08-16T18:16:28.238Z"
   },
   {
    "duration": 387,
    "start_time": "2024-08-16T18:16:28.595Z"
   },
   {
    "duration": 244,
    "start_time": "2024-08-16T18:16:28.987Z"
   },
   {
    "duration": 206,
    "start_time": "2024-08-16T18:16:29.235Z"
   },
   {
    "duration": 5,
    "start_time": "2024-08-16T18:16:29.444Z"
   },
   {
    "duration": 755,
    "start_time": "2024-08-16T18:16:29.453Z"
   },
   {
    "duration": 700,
    "start_time": "2024-08-16T18:16:30.211Z"
   },
   {
    "duration": 11,
    "start_time": "2024-08-16T18:16:30.920Z"
   },
   {
    "duration": 75,
    "start_time": "2024-08-16T18:16:30.940Z"
   },
   {
    "duration": 6,
    "start_time": "2024-08-16T18:16:31.018Z"
   },
   {
    "duration": 95,
    "start_time": "2024-08-16T18:16:31.028Z"
   },
   {
    "duration": 14,
    "start_time": "2024-08-16T18:16:31.127Z"
   },
   {
    "duration": 6,
    "start_time": "2024-08-16T18:16:31.145Z"
   },
   {
    "duration": 9,
    "start_time": "2024-08-16T18:16:31.201Z"
   },
   {
    "duration": 7,
    "start_time": "2024-08-16T18:16:31.215Z"
   },
   {
    "duration": 10,
    "start_time": "2024-08-16T18:16:31.232Z"
   },
   {
    "duration": 57,
    "start_time": "2024-08-16T18:16:31.246Z"
   },
   {
    "duration": 15,
    "start_time": "2024-08-16T18:16:31.306Z"
   },
   {
    "duration": 82,
    "start_time": "2024-08-16T18:16:31.325Z"
   },
   {
    "duration": 286,
    "start_time": "2024-08-16T18:16:31.411Z"
   },
   {
    "duration": 97,
    "start_time": "2024-08-16T18:16:31.705Z"
   },
   {
    "duration": 10,
    "start_time": "2024-08-16T18:16:31.806Z"
   },
   {
    "duration": 11,
    "start_time": "2024-08-16T18:16:31.820Z"
   },
   {
    "duration": 69,
    "start_time": "2024-08-16T18:16:31.834Z"
   },
   {
    "duration": 8,
    "start_time": "2024-08-16T18:16:49.791Z"
   },
   {
    "duration": 33,
    "start_time": "2024-08-16T18:16:49.804Z"
   },
   {
    "duration": 12,
    "start_time": "2024-08-16T18:16:49.841Z"
   },
   {
    "duration": 48,
    "start_time": "2024-08-16T18:16:49.856Z"
   },
   {
    "duration": 8,
    "start_time": "2024-08-16T18:16:49.909Z"
   },
   {
    "duration": 8,
    "start_time": "2024-08-16T18:16:49.921Z"
   },
   {
    "duration": 8,
    "start_time": "2024-08-16T18:16:49.933Z"
   },
   {
    "duration": 60,
    "start_time": "2024-08-16T18:16:49.945Z"
   },
   {
    "duration": 11,
    "start_time": "2024-08-16T18:16:50.008Z"
   },
   {
    "duration": 10,
    "start_time": "2024-08-16T18:16:50.024Z"
   },
   {
    "duration": 8,
    "start_time": "2024-08-16T18:16:50.038Z"
   },
   {
    "duration": 55,
    "start_time": "2024-08-16T18:16:50.050Z"
   },
   {
    "duration": 324,
    "start_time": "2024-08-16T18:16:50.109Z"
   },
   {
    "duration": 394,
    "start_time": "2024-08-16T18:16:50.440Z"
   },
   {
    "duration": 222,
    "start_time": "2024-08-16T18:16:50.837Z"
   },
   {
    "duration": 211,
    "start_time": "2024-08-16T18:16:51.062Z"
   },
   {
    "duration": 4,
    "start_time": "2024-08-16T18:16:51.278Z"
   },
   {
    "duration": 739,
    "start_time": "2024-08-16T18:16:51.286Z"
   },
   {
    "duration": 500,
    "start_time": "2024-08-16T18:16:52.029Z"
   },
   {
    "duration": 5,
    "start_time": "2024-08-16T18:16:55.247Z"
   },
   {
    "duration": 32,
    "start_time": "2024-08-16T18:16:56.237Z"
   },
   {
    "duration": 6,
    "start_time": "2024-08-16T18:16:58.298Z"
   },
   {
    "duration": 36,
    "start_time": "2024-08-16T18:16:59.858Z"
   },
   {
    "duration": 17,
    "start_time": "2024-08-16T18:17:05.193Z"
   },
   {
    "duration": 6,
    "start_time": "2024-08-16T18:17:06.787Z"
   },
   {
    "duration": 9,
    "start_time": "2024-08-16T18:17:08.573Z"
   },
   {
    "duration": 8,
    "start_time": "2024-08-16T18:17:09.137Z"
   },
   {
    "duration": 10,
    "start_time": "2024-08-16T18:17:12.258Z"
   },
   {
    "duration": 4,
    "start_time": "2024-08-16T18:17:13.382Z"
   },
   {
    "duration": 17,
    "start_time": "2024-08-16T18:17:14.562Z"
   },
   {
    "duration": 28,
    "start_time": "2024-08-16T18:17:19.131Z"
   },
   {
    "duration": 215,
    "start_time": "2024-08-16T18:17:22.043Z"
   },
   {
    "duration": 81,
    "start_time": "2024-08-16T18:17:25.057Z"
   },
   {
    "duration": 19,
    "start_time": "2024-08-16T18:17:28.234Z"
   },
   {
    "duration": 11,
    "start_time": "2024-08-16T18:17:32.412Z"
   },
   {
    "duration": 10,
    "start_time": "2024-08-16T18:17:33.645Z"
   },
   {
    "duration": 7,
    "start_time": "2024-08-16T18:18:38.741Z"
   },
   {
    "duration": 30,
    "start_time": "2024-08-16T18:18:38.754Z"
   },
   {
    "duration": 16,
    "start_time": "2024-08-16T18:18:38.787Z"
   },
   {
    "duration": 15,
    "start_time": "2024-08-16T18:18:38.806Z"
   },
   {
    "duration": 7,
    "start_time": "2024-08-16T18:18:38.826Z"
   },
   {
    "duration": 6,
    "start_time": "2024-08-16T18:18:38.836Z"
   },
   {
    "duration": 7,
    "start_time": "2024-08-16T18:18:38.845Z"
   },
   {
    "duration": 9,
    "start_time": "2024-08-16T18:18:38.903Z"
   },
   {
    "duration": 9,
    "start_time": "2024-08-16T18:18:38.915Z"
   },
   {
    "duration": 10,
    "start_time": "2024-08-16T18:18:38.927Z"
   },
   {
    "duration": 6,
    "start_time": "2024-08-16T18:18:38.941Z"
   },
   {
    "duration": 57,
    "start_time": "2024-08-16T18:18:38.951Z"
   },
   {
    "duration": 317,
    "start_time": "2024-08-16T18:18:39.012Z"
   },
   {
    "duration": 401,
    "start_time": "2024-08-16T18:18:39.335Z"
   },
   {
    "duration": 207,
    "start_time": "2024-08-16T18:18:39.740Z"
   },
   {
    "duration": 191,
    "start_time": "2024-08-16T18:18:39.950Z"
   },
   {
    "duration": 4,
    "start_time": "2024-08-16T18:18:40.145Z"
   },
   {
    "duration": 693,
    "start_time": "2024-08-16T18:18:40.153Z"
   },
   {
    "duration": 477,
    "start_time": "2024-08-16T18:18:40.850Z"
   },
   {
    "duration": 4,
    "start_time": "2024-08-16T18:18:44.208Z"
   },
   {
    "duration": 34,
    "start_time": "2024-08-16T18:18:44.759Z"
   },
   {
    "duration": 6,
    "start_time": "2024-08-16T18:18:47.764Z"
   },
   {
    "duration": 34,
    "start_time": "2024-08-16T18:18:49.257Z"
   },
   {
    "duration": 13,
    "start_time": "2024-08-16T18:18:53.264Z"
   },
   {
    "duration": 6,
    "start_time": "2024-08-16T18:18:53.904Z"
   },
   {
    "duration": 9,
    "start_time": "2024-08-16T18:18:56.070Z"
   },
   {
    "duration": 7,
    "start_time": "2024-08-16T18:18:57.558Z"
   },
   {
    "duration": 9,
    "start_time": "2024-08-16T18:19:01.432Z"
   },
   {
    "duration": 4,
    "start_time": "2024-08-16T18:19:01.968Z"
   },
   {
    "duration": 12,
    "start_time": "2024-08-16T18:19:02.520Z"
   },
   {
    "duration": 44,
    "start_time": "2024-08-16T18:19:06.860Z"
   },
   {
    "duration": 234,
    "start_time": "2024-08-16T18:19:10.528Z"
   },
   {
    "duration": 90,
    "start_time": "2024-08-16T18:19:14.702Z"
   },
   {
    "duration": 10,
    "start_time": "2024-08-16T18:19:18.159Z"
   },
   {
    "duration": 10,
    "start_time": "2024-08-16T18:19:24.156Z"
   },
   {
    "duration": 10,
    "start_time": "2024-08-16T18:19:27.343Z"
   },
   {
    "duration": 7,
    "start_time": "2024-08-16T18:26:26.790Z"
   },
   {
    "duration": 34,
    "start_time": "2024-08-16T18:26:26.802Z"
   },
   {
    "duration": 9,
    "start_time": "2024-08-16T18:26:26.839Z"
   },
   {
    "duration": 14,
    "start_time": "2024-08-16T18:26:26.852Z"
   },
   {
    "duration": 10,
    "start_time": "2024-08-16T18:26:26.904Z"
   },
   {
    "duration": 7,
    "start_time": "2024-08-16T18:26:26.917Z"
   },
   {
    "duration": 7,
    "start_time": "2024-08-16T18:26:26.927Z"
   },
   {
    "duration": 9,
    "start_time": "2024-08-16T18:26:26.937Z"
   },
   {
    "duration": 60,
    "start_time": "2024-08-16T18:26:26.949Z"
   },
   {
    "duration": 13,
    "start_time": "2024-08-16T18:26:27.012Z"
   },
   {
    "duration": 7,
    "start_time": "2024-08-16T18:26:27.030Z"
   },
   {
    "duration": 10,
    "start_time": "2024-08-16T18:26:27.040Z"
   },
   {
    "duration": 339,
    "start_time": "2024-08-16T18:26:27.053Z"
   },
   {
    "duration": 371,
    "start_time": "2024-08-16T18:26:27.405Z"
   },
   {
    "duration": 211,
    "start_time": "2024-08-16T18:26:27.779Z"
   },
   {
    "duration": 197,
    "start_time": "2024-08-16T18:26:28.001Z"
   },
   {
    "duration": 5,
    "start_time": "2024-08-16T18:26:28.203Z"
   },
   {
    "duration": 704,
    "start_time": "2024-08-16T18:26:28.213Z"
   },
   {
    "duration": 644,
    "start_time": "2024-08-16T18:26:28.921Z"
   },
   {
    "duration": 4,
    "start_time": "2024-08-16T18:26:32.977Z"
   },
   {
    "duration": 35,
    "start_time": "2024-08-16T18:26:33.503Z"
   },
   {
    "duration": 9,
    "start_time": "2024-08-16T18:26:36.577Z"
   },
   {
    "duration": 33,
    "start_time": "2024-08-16T18:26:38.080Z"
   },
   {
    "duration": 14,
    "start_time": "2024-08-16T18:26:50.480Z"
   },
   {
    "duration": 7,
    "start_time": "2024-08-16T18:26:51.183Z"
   },
   {
    "duration": 8,
    "start_time": "2024-08-16T18:26:52.487Z"
   },
   {
    "duration": 6,
    "start_time": "2024-08-16T18:26:54.172Z"
   },
   {
    "duration": 8,
    "start_time": "2024-08-16T18:27:27.452Z"
   },
   {
    "duration": 4,
    "start_time": "2024-08-16T18:27:27.987Z"
   },
   {
    "duration": 13,
    "start_time": "2024-08-16T18:27:29.056Z"
   },
   {
    "duration": 24,
    "start_time": "2024-08-16T18:27:33.564Z"
   },
   {
    "duration": 234,
    "start_time": "2024-08-16T18:27:38.531Z"
   },
   {
    "duration": 90,
    "start_time": "2024-08-16T18:27:41.883Z"
   },
   {
    "duration": 13,
    "start_time": "2024-08-16T18:27:46.462Z"
   },
   {
    "duration": 11,
    "start_time": "2024-08-16T18:27:50.187Z"
   },
   {
    "duration": 10,
    "start_time": "2024-08-16T18:27:54.365Z"
   },
   {
    "duration": 7,
    "start_time": "2024-08-16T18:36:10.398Z"
   },
   {
    "duration": 30,
    "start_time": "2024-08-16T18:36:10.409Z"
   },
   {
    "duration": 11,
    "start_time": "2024-08-16T18:36:10.443Z"
   },
   {
    "duration": 14,
    "start_time": "2024-08-16T18:36:10.501Z"
   },
   {
    "duration": 7,
    "start_time": "2024-08-16T18:36:10.518Z"
   },
   {
    "duration": 6,
    "start_time": "2024-08-16T18:36:10.528Z"
   },
   {
    "duration": 5,
    "start_time": "2024-08-16T18:36:10.538Z"
   },
   {
    "duration": 56,
    "start_time": "2024-08-16T18:36:10.547Z"
   },
   {
    "duration": 9,
    "start_time": "2024-08-16T18:36:10.607Z"
   },
   {
    "duration": 9,
    "start_time": "2024-08-16T18:36:10.622Z"
   },
   {
    "duration": 7,
    "start_time": "2024-08-16T18:36:10.634Z"
   },
   {
    "duration": 57,
    "start_time": "2024-08-16T18:36:10.644Z"
   },
   {
    "duration": 305,
    "start_time": "2024-08-16T18:36:10.705Z"
   },
   {
    "duration": 375,
    "start_time": "2024-08-16T18:36:11.013Z"
   },
   {
    "duration": 223,
    "start_time": "2024-08-16T18:36:11.391Z"
   },
   {
    "duration": 199,
    "start_time": "2024-08-16T18:36:11.617Z"
   },
   {
    "duration": 6,
    "start_time": "2024-08-16T18:36:11.819Z"
   },
   {
    "duration": 684,
    "start_time": "2024-08-16T18:36:11.829Z"
   },
   {
    "duration": 493,
    "start_time": "2024-08-16T18:36:12.517Z"
   },
   {
    "duration": 4,
    "start_time": "2024-08-16T18:36:16.489Z"
   },
   {
    "duration": 36,
    "start_time": "2024-08-16T18:36:17.210Z"
   },
   {
    "duration": 6,
    "start_time": "2024-08-16T18:36:20.355Z"
   },
   {
    "duration": 39,
    "start_time": "2024-08-16T18:36:22.022Z"
   },
   {
    "duration": 15,
    "start_time": "2024-08-16T18:36:25.779Z"
   },
   {
    "duration": 6,
    "start_time": "2024-08-16T18:36:26.633Z"
   },
   {
    "duration": 9,
    "start_time": "2024-08-16T18:36:27.845Z"
   },
   {
    "duration": 8,
    "start_time": "2024-08-16T18:36:30.169Z"
   },
   {
    "duration": 9,
    "start_time": "2024-08-16T18:36:35.457Z"
   },
   {
    "duration": 4,
    "start_time": "2024-08-16T18:36:36.541Z"
   },
   {
    "duration": 12,
    "start_time": "2024-08-16T18:36:37.689Z"
   },
   {
    "duration": 26,
    "start_time": "2024-08-16T18:36:41.481Z"
   },
   {
    "duration": 7,
    "start_time": "2024-08-16T18:36:53.069Z"
   },
   {
    "duration": 32,
    "start_time": "2024-08-16T18:36:53.081Z"
   },
   {
    "duration": 10,
    "start_time": "2024-08-16T18:36:53.116Z"
   },
   {
    "duration": 15,
    "start_time": "2024-08-16T18:36:53.130Z"
   },
   {
    "duration": 10,
    "start_time": "2024-08-16T18:36:53.149Z"
   },
   {
    "duration": 42,
    "start_time": "2024-08-16T18:36:53.162Z"
   },
   {
    "duration": 5,
    "start_time": "2024-08-16T18:36:53.208Z"
   },
   {
    "duration": 9,
    "start_time": "2024-08-16T18:36:53.217Z"
   },
   {
    "duration": 11,
    "start_time": "2024-08-16T18:36:53.229Z"
   },
   {
    "duration": 61,
    "start_time": "2024-08-16T18:36:53.243Z"
   },
   {
    "duration": 6,
    "start_time": "2024-08-16T18:36:53.307Z"
   },
   {
    "duration": 9,
    "start_time": "2024-08-16T18:36:53.316Z"
   },
   {
    "duration": 342,
    "start_time": "2024-08-16T18:36:53.328Z"
   },
   {
    "duration": 386,
    "start_time": "2024-08-16T18:36:53.677Z"
   },
   {
    "duration": 205,
    "start_time": "2024-08-16T18:36:54.067Z"
   },
   {
    "duration": 195,
    "start_time": "2024-08-16T18:36:54.276Z"
   },
   {
    "duration": 4,
    "start_time": "2024-08-16T18:36:54.475Z"
   },
   {
    "duration": 678,
    "start_time": "2024-08-16T18:36:54.503Z"
   },
   {
    "duration": 477,
    "start_time": "2024-08-16T18:36:55.185Z"
   },
   {
    "duration": 4,
    "start_time": "2024-08-16T18:37:07.849Z"
   },
   {
    "duration": 35,
    "start_time": "2024-08-16T18:37:10.258Z"
   },
   {
    "duration": 6,
    "start_time": "2024-08-16T18:37:12.643Z"
   },
   {
    "duration": 32,
    "start_time": "2024-08-16T18:37:14.406Z"
   },
   {
    "duration": 14,
    "start_time": "2024-08-16T18:37:16.846Z"
   },
   {
    "duration": 6,
    "start_time": "2024-08-16T18:37:17.477Z"
   },
   {
    "duration": 8,
    "start_time": "2024-08-16T18:37:19.357Z"
   },
   {
    "duration": 7,
    "start_time": "2024-08-16T18:37:20.589Z"
   },
   {
    "duration": 10,
    "start_time": "2024-08-16T18:37:24.560Z"
   },
   {
    "duration": 6,
    "start_time": "2024-08-16T18:37:25.149Z"
   },
   {
    "duration": 14,
    "start_time": "2024-08-16T18:37:26.465Z"
   },
   {
    "duration": 86,
    "start_time": "2024-08-16T18:37:32.116Z"
   },
   {
    "duration": 264,
    "start_time": "2024-08-16T18:37:35.806Z"
   },
   {
    "duration": 98,
    "start_time": "2024-08-16T18:37:44.157Z"
   },
   {
    "duration": 17,
    "start_time": "2024-08-16T18:37:49.796Z"
   },
   {
    "duration": 11,
    "start_time": "2024-08-16T18:37:52.484Z"
   },
   {
    "duration": 10,
    "start_time": "2024-08-16T18:37:55.959Z"
   },
   {
    "duration": 6,
    "start_time": "2024-08-16T18:38:01.862Z"
   },
   {
    "duration": 32,
    "start_time": "2024-08-16T18:38:01.874Z"
   },
   {
    "duration": 9,
    "start_time": "2024-08-16T18:38:01.909Z"
   },
   {
    "duration": 14,
    "start_time": "2024-08-16T18:38:01.921Z"
   },
   {
    "duration": 7,
    "start_time": "2024-08-16T18:38:01.940Z"
   },
   {
    "duration": 6,
    "start_time": "2024-08-16T18:38:01.951Z"
   },
   {
    "duration": 7,
    "start_time": "2024-08-16T18:38:02.004Z"
   },
   {
    "duration": 11,
    "start_time": "2024-08-16T18:38:02.014Z"
   },
   {
    "duration": 9,
    "start_time": "2024-08-16T18:38:02.029Z"
   },
   {
    "duration": 10,
    "start_time": "2024-08-16T18:38:02.041Z"
   },
   {
    "duration": 52,
    "start_time": "2024-08-16T18:38:02.054Z"
   },
   {
    "duration": 9,
    "start_time": "2024-08-16T18:38:02.109Z"
   },
   {
    "duration": 325,
    "start_time": "2024-08-16T18:38:02.121Z"
   },
   {
    "duration": 381,
    "start_time": "2024-08-16T18:38:02.453Z"
   },
   {
    "duration": 208,
    "start_time": "2024-08-16T18:38:02.837Z"
   },
   {
    "duration": 204,
    "start_time": "2024-08-16T18:38:03.049Z"
   },
   {
    "duration": 5,
    "start_time": "2024-08-16T18:38:03.257Z"
   },
   {
    "duration": 703,
    "start_time": "2024-08-16T18:38:03.265Z"
   },
   {
    "duration": 688,
    "start_time": "2024-08-16T18:38:03.972Z"
   },
   {
    "duration": 4,
    "start_time": "2024-08-16T18:38:04.664Z"
   },
   {
    "duration": 56,
    "start_time": "2024-08-16T18:38:04.671Z"
   },
   {
    "duration": 9,
    "start_time": "2024-08-16T18:38:04.730Z"
   },
   {
    "duration": 33,
    "start_time": "2024-08-16T18:38:04.742Z"
   },
   {
    "duration": 15,
    "start_time": "2024-08-16T18:38:04.802Z"
   },
   {
    "duration": 6,
    "start_time": "2024-08-16T18:38:04.820Z"
   },
   {
    "duration": 8,
    "start_time": "2024-08-16T18:38:04.831Z"
   },
   {
    "duration": 8,
    "start_time": "2024-08-16T18:38:04.842Z"
   },
   {
    "duration": 9,
    "start_time": "2024-08-16T18:38:04.901Z"
   },
   {
    "duration": 5,
    "start_time": "2024-08-16T18:38:04.913Z"
   },
   {
    "duration": 13,
    "start_time": "2024-08-16T18:38:04.922Z"
   },
   {
    "duration": 83,
    "start_time": "2024-08-16T18:38:04.939Z"
   },
   {
    "duration": 413,
    "start_time": "2024-08-16T18:38:05.026Z"
   },
   {
    "duration": 106,
    "start_time": "2024-08-16T18:38:05.443Z"
   },
   {
    "duration": 10,
    "start_time": "2024-08-16T18:38:05.553Z"
   },
   {
    "duration": 11,
    "start_time": "2024-08-16T18:38:05.603Z"
   },
   {
    "duration": 88,
    "start_time": "2024-08-16T18:38:05.617Z"
   },
   {
    "duration": 2011,
    "start_time": "2024-08-16T18:40:18.515Z"
   },
   {
    "duration": 35,
    "start_time": "2024-08-16T18:40:20.530Z"
   },
   {
    "duration": 13,
    "start_time": "2024-08-16T18:40:20.568Z"
   },
   {
    "duration": 14,
    "start_time": "2024-08-16T18:40:20.604Z"
   },
   {
    "duration": 7,
    "start_time": "2024-08-16T18:40:20.621Z"
   },
   {
    "duration": 7,
    "start_time": "2024-08-16T18:40:20.631Z"
   },
   {
    "duration": 6,
    "start_time": "2024-08-16T18:40:20.642Z"
   },
   {
    "duration": 56,
    "start_time": "2024-08-16T18:40:20.652Z"
   },
   {
    "duration": 14,
    "start_time": "2024-08-16T18:40:20.712Z"
   },
   {
    "duration": 11,
    "start_time": "2024-08-16T18:40:20.734Z"
   },
   {
    "duration": 7,
    "start_time": "2024-08-16T18:40:20.749Z"
   },
   {
    "duration": 9,
    "start_time": "2024-08-16T18:40:20.803Z"
   },
   {
    "duration": 340,
    "start_time": "2024-08-16T18:40:20.816Z"
   },
   {
    "duration": 395,
    "start_time": "2024-08-16T18:40:21.159Z"
   },
   {
    "duration": 306,
    "start_time": "2024-08-16T18:40:21.558Z"
   },
   {
    "duration": 197,
    "start_time": "2024-08-16T18:40:21.868Z"
   },
   {
    "duration": 4,
    "start_time": "2024-08-16T18:40:22.069Z"
   },
   {
    "duration": 686,
    "start_time": "2024-08-16T18:40:22.077Z"
   },
   {
    "duration": 478,
    "start_time": "2024-08-16T18:40:22.766Z"
   },
   {
    "duration": 5,
    "start_time": "2024-08-16T18:40:23.247Z"
   },
   {
    "duration": 60,
    "start_time": "2024-08-16T18:40:23.255Z"
   },
   {
    "duration": 6,
    "start_time": "2024-08-16T18:40:23.317Z"
   },
   {
    "duration": 34,
    "start_time": "2024-08-16T18:40:23.327Z"
   },
   {
    "duration": 45,
    "start_time": "2024-08-16T18:40:23.364Z"
   },
   {
    "duration": 6,
    "start_time": "2024-08-16T18:40:23.412Z"
   },
   {
    "duration": 9,
    "start_time": "2024-08-16T18:40:23.421Z"
   },
   {
    "duration": 8,
    "start_time": "2024-08-16T18:40:23.433Z"
   },
   {
    "duration": 54,
    "start_time": "2024-08-16T18:40:23.449Z"
   },
   {
    "duration": 4,
    "start_time": "2024-08-16T18:40:23.507Z"
   },
   {
    "duration": 12,
    "start_time": "2024-08-16T18:40:23.515Z"
   },
   {
    "duration": 91,
    "start_time": "2024-08-16T18:40:23.530Z"
   },
   {
    "duration": 412,
    "start_time": "2024-08-16T18:40:23.624Z"
   },
   {
    "duration": 106,
    "start_time": "2024-08-16T18:40:24.039Z"
   },
   {
    "duration": 11,
    "start_time": "2024-08-16T18:40:24.148Z"
   },
   {
    "duration": 51,
    "start_time": "2024-08-16T18:40:24.162Z"
   },
   {
    "duration": 85,
    "start_time": "2024-08-16T18:40:24.218Z"
   },
   {
    "duration": 7,
    "start_time": "2024-08-16T18:44:44.286Z"
   },
   {
    "duration": 39,
    "start_time": "2024-08-16T18:44:44.297Z"
   },
   {
    "duration": 10,
    "start_time": "2024-08-16T18:44:44.339Z"
   },
   {
    "duration": 16,
    "start_time": "2024-08-16T18:44:44.353Z"
   },
   {
    "duration": 19,
    "start_time": "2024-08-16T18:44:44.410Z"
   },
   {
    "duration": 7,
    "start_time": "2024-08-16T18:44:44.432Z"
   },
   {
    "duration": 6,
    "start_time": "2024-08-16T18:44:44.443Z"
   },
   {
    "duration": 8,
    "start_time": "2024-08-16T18:44:44.453Z"
   },
   {
    "duration": 52,
    "start_time": "2024-08-16T18:44:44.464Z"
   },
   {
    "duration": 15,
    "start_time": "2024-08-16T18:44:44.519Z"
   },
   {
    "duration": 6,
    "start_time": "2024-08-16T18:44:44.538Z"
   },
   {
    "duration": 8,
    "start_time": "2024-08-16T18:44:44.548Z"
   },
   {
    "duration": 335,
    "start_time": "2024-08-16T18:44:44.559Z"
   },
   {
    "duration": 386,
    "start_time": "2024-08-16T18:44:44.900Z"
   },
   {
    "duration": 191,
    "start_time": "2024-08-16T18:44:45.290Z"
   },
   {
    "duration": 191,
    "start_time": "2024-08-16T18:44:45.484Z"
   },
   {
    "duration": 4,
    "start_time": "2024-08-16T18:44:45.679Z"
   },
   {
    "duration": 721,
    "start_time": "2024-08-16T18:44:45.686Z"
   },
   {
    "duration": 598,
    "start_time": "2024-08-16T18:44:46.410Z"
   },
   {
    "duration": 11,
    "start_time": "2024-08-16T18:44:47.014Z"
   },
   {
    "duration": 44,
    "start_time": "2024-08-16T18:44:47.031Z"
   },
   {
    "duration": 24,
    "start_time": "2024-08-16T18:44:47.079Z"
   },
   {
    "duration": 38,
    "start_time": "2024-08-16T18:44:47.106Z"
   },
   {
    "duration": 15,
    "start_time": "2024-08-16T18:44:47.147Z"
   },
   {
    "duration": 38,
    "start_time": "2024-08-16T18:44:47.164Z"
   },
   {
    "duration": 8,
    "start_time": "2024-08-16T18:44:47.208Z"
   },
   {
    "duration": 10,
    "start_time": "2024-08-16T18:44:47.220Z"
   },
   {
    "duration": 9,
    "start_time": "2024-08-16T18:44:47.237Z"
   },
   {
    "duration": 4,
    "start_time": "2024-08-16T18:44:47.249Z"
   },
   {
    "duration": 53,
    "start_time": "2024-08-16T18:44:47.256Z"
   },
   {
    "duration": 88,
    "start_time": "2024-08-16T18:44:47.316Z"
   },
   {
    "duration": 337,
    "start_time": "2024-08-16T18:44:47.408Z"
   },
   {
    "duration": 110,
    "start_time": "2024-08-16T18:44:47.748Z"
   },
   {
    "duration": 47,
    "start_time": "2024-08-16T18:44:47.862Z"
   },
   {
    "duration": 10,
    "start_time": "2024-08-16T18:44:47.915Z"
   },
   {
    "duration": 9,
    "start_time": "2024-08-16T18:44:47.928Z"
   },
   {
    "duration": 12,
    "start_time": "2024-08-16T21:47:31.073Z"
   },
   {
    "duration": 8,
    "start_time": "2024-08-16T22:39:12.653Z"
   },
   {
    "duration": 36,
    "start_time": "2024-08-16T22:39:12.666Z"
   },
   {
    "duration": 9,
    "start_time": "2024-08-16T22:39:12.705Z"
   },
   {
    "duration": 15,
    "start_time": "2024-08-16T22:39:12.719Z"
   },
   {
    "duration": 8,
    "start_time": "2024-08-16T22:39:12.737Z"
   },
   {
    "duration": 6,
    "start_time": "2024-08-16T22:39:12.748Z"
   },
   {
    "duration": 47,
    "start_time": "2024-08-16T22:39:12.758Z"
   },
   {
    "duration": 9,
    "start_time": "2024-08-16T22:39:12.809Z"
   },
   {
    "duration": 10,
    "start_time": "2024-08-16T22:39:12.821Z"
   },
   {
    "duration": 10,
    "start_time": "2024-08-16T22:39:12.836Z"
   },
   {
    "duration": 54,
    "start_time": "2024-08-16T22:39:12.850Z"
   },
   {
    "duration": 10,
    "start_time": "2024-08-16T22:39:12.908Z"
   },
   {
    "duration": 339,
    "start_time": "2024-08-16T22:39:12.923Z"
   },
   {
    "duration": 370,
    "start_time": "2024-08-16T22:39:13.265Z"
   },
   {
    "duration": 204,
    "start_time": "2024-08-16T22:39:13.639Z"
   },
   {
    "duration": 198,
    "start_time": "2024-08-16T22:39:13.847Z"
   },
   {
    "duration": 5,
    "start_time": "2024-08-16T22:39:14.048Z"
   },
   {
    "duration": 675,
    "start_time": "2024-08-16T22:39:14.056Z"
   },
   {
    "duration": 468,
    "start_time": "2024-08-16T22:39:14.734Z"
   },
   {
    "duration": 5,
    "start_time": "2024-08-16T22:39:15.205Z"
   },
   {
    "duration": 35,
    "start_time": "2024-08-16T22:39:15.214Z"
   },
   {
    "duration": 7,
    "start_time": "2024-08-16T22:39:15.252Z"
   },
   {
    "duration": 31,
    "start_time": "2024-08-16T22:39:15.301Z"
   },
   {
    "duration": 14,
    "start_time": "2024-08-16T22:39:15.335Z"
   },
   {
    "duration": 6,
    "start_time": "2024-08-16T22:39:15.352Z"
   },
   {
    "duration": 9,
    "start_time": "2024-08-16T22:39:28.749Z"
   },
   {
    "duration": 5,
    "start_time": "2024-08-16T22:39:30.669Z"
   },
   {
    "duration": 7,
    "start_time": "2024-08-16T22:41:18.383Z"
   },
   {
    "duration": 9,
    "start_time": "2024-08-16T22:41:28.954Z"
   },
   {
    "duration": 4,
    "start_time": "2024-08-16T22:41:31.671Z"
   },
   {
    "duration": 12,
    "start_time": "2024-08-16T22:41:33.795Z"
   },
   {
    "duration": 36,
    "start_time": "2024-08-16T22:42:09.864Z"
   },
   {
    "duration": 252,
    "start_time": "2024-08-16T22:42:16.714Z"
   },
   {
    "duration": 96,
    "start_time": "2024-08-16T22:42:22.506Z"
   },
   {
    "duration": 9,
    "start_time": "2024-08-16T22:42:26.546Z"
   },
   {
    "duration": 11,
    "start_time": "2024-08-16T22:42:31.217Z"
   },
   {
    "duration": 10,
    "start_time": "2024-08-16T22:42:32.041Z"
   },
   {
    "duration": 5,
    "start_time": "2024-08-16T22:46:54.979Z"
   },
   {
    "duration": 86809,
    "start_time": "2024-08-16T22:54:44.496Z"
   },
   {
    "duration": 116709,
    "start_time": "2024-08-16T22:56:33.208Z"
   },
   {
    "duration": 7,
    "start_time": "2024-08-16T22:59:07.121Z"
   },
   {
    "duration": 32,
    "start_time": "2024-08-16T22:59:07.132Z"
   },
   {
    "duration": 9,
    "start_time": "2024-08-16T22:59:07.167Z"
   },
   {
    "duration": 14,
    "start_time": "2024-08-16T22:59:07.202Z"
   },
   {
    "duration": 7,
    "start_time": "2024-08-16T22:59:07.219Z"
   },
   {
    "duration": 9,
    "start_time": "2024-08-16T22:59:07.230Z"
   },
   {
    "duration": 5,
    "start_time": "2024-08-16T22:59:07.245Z"
   },
   {
    "duration": 53,
    "start_time": "2024-08-16T22:59:07.253Z"
   },
   {
    "duration": 9,
    "start_time": "2024-08-16T22:59:07.310Z"
   },
   {
    "duration": 9,
    "start_time": "2024-08-16T22:59:07.325Z"
   },
   {
    "duration": 6,
    "start_time": "2024-08-16T22:59:07.338Z"
   },
   {
    "duration": 53,
    "start_time": "2024-08-16T22:59:07.347Z"
   },
   {
    "duration": 302,
    "start_time": "2024-08-16T22:59:07.404Z"
   },
   {
    "duration": 509,
    "start_time": "2024-08-16T22:59:07.709Z"
   },
   {
    "duration": 208,
    "start_time": "2024-08-16T22:59:08.221Z"
   },
   {
    "duration": 201,
    "start_time": "2024-08-16T22:59:08.433Z"
   },
   {
    "duration": 5,
    "start_time": "2024-08-16T22:59:08.637Z"
   },
   {
    "duration": 702,
    "start_time": "2024-08-16T22:59:08.646Z"
   },
   {
    "duration": 473,
    "start_time": "2024-08-16T22:59:09.351Z"
   },
   {
    "duration": 4,
    "start_time": "2024-08-16T22:59:09.828Z"
   },
   {
    "duration": 72,
    "start_time": "2024-08-16T22:59:09.835Z"
   },
   {
    "duration": 6,
    "start_time": "2024-08-16T22:59:09.910Z"
   },
   {
    "duration": 35,
    "start_time": "2024-08-16T22:59:09.919Z"
   },
   {
    "duration": 48,
    "start_time": "2024-08-16T22:59:09.957Z"
   },
   {
    "duration": 8,
    "start_time": "2024-08-16T22:59:10.009Z"
   },
   {
    "duration": 11,
    "start_time": "2024-08-16T22:59:10.020Z"
   },
   {
    "duration": 5,
    "start_time": "2024-08-16T22:59:10.035Z"
   },
   {
    "duration": 52,
    "start_time": "2024-08-16T22:59:10.050Z"
   },
   {
    "duration": 9,
    "start_time": "2024-08-16T22:59:10.106Z"
   },
   {
    "duration": 4,
    "start_time": "2024-08-16T22:59:10.119Z"
   },
   {
    "duration": 24,
    "start_time": "2024-08-16T22:59:10.127Z"
   },
   {
    "duration": 70,
    "start_time": "2024-08-16T22:59:10.154Z"
   },
   {
    "duration": 332,
    "start_time": "2024-08-16T22:59:10.303Z"
   },
   {
    "duration": 104,
    "start_time": "2024-08-16T22:59:10.640Z"
   },
   {
    "duration": 96808,
    "start_time": "2024-08-16T22:59:17.554Z"
   },
   {
    "duration": 16,
    "start_time": "2024-08-16T23:11:29.341Z"
   },
   {
    "duration": 7,
    "start_time": "2024-08-16T23:14:30.767Z"
   },
   {
    "duration": 32,
    "start_time": "2024-08-16T23:14:30.780Z"
   },
   {
    "duration": 9,
    "start_time": "2024-08-16T23:14:30.815Z"
   },
   {
    "duration": 15,
    "start_time": "2024-08-16T23:14:30.829Z"
   },
   {
    "duration": 7,
    "start_time": "2024-08-16T23:14:30.848Z"
   },
   {
    "duration": 6,
    "start_time": "2024-08-16T23:14:30.902Z"
   },
   {
    "duration": 7,
    "start_time": "2024-08-16T23:14:30.912Z"
   },
   {
    "duration": 10,
    "start_time": "2024-08-16T23:14:30.922Z"
   },
   {
    "duration": 10,
    "start_time": "2024-08-16T23:14:30.935Z"
   },
   {
    "duration": 58,
    "start_time": "2024-08-16T23:14:30.950Z"
   },
   {
    "duration": 7,
    "start_time": "2024-08-16T23:14:31.011Z"
   },
   {
    "duration": 9,
    "start_time": "2024-08-16T23:14:31.021Z"
   },
   {
    "duration": 335,
    "start_time": "2024-08-16T23:14:31.035Z"
   },
   {
    "duration": 380,
    "start_time": "2024-08-16T23:14:31.375Z"
   },
   {
    "duration": 202,
    "start_time": "2024-08-16T23:14:31.758Z"
   },
   {
    "duration": 193,
    "start_time": "2024-08-16T23:14:31.963Z"
   },
   {
    "duration": 5,
    "start_time": "2024-08-16T23:14:32.160Z"
   },
   {
    "duration": 698,
    "start_time": "2024-08-16T23:14:32.168Z"
   },
   {
    "duration": 491,
    "start_time": "2024-08-16T23:14:32.870Z"
   },
   {
    "duration": 5,
    "start_time": "2024-08-16T23:14:33.364Z"
   },
   {
    "duration": 57,
    "start_time": "2024-08-16T23:14:33.373Z"
   },
   {
    "duration": 6,
    "start_time": "2024-08-16T23:14:33.433Z"
   },
   {
    "duration": 60,
    "start_time": "2024-08-16T23:14:33.442Z"
   },
   {
    "duration": 14,
    "start_time": "2024-08-16T23:14:33.505Z"
   },
   {
    "duration": 6,
    "start_time": "2024-08-16T23:14:33.522Z"
   },
   {
    "duration": 9,
    "start_time": "2024-08-16T23:14:33.532Z"
   },
   {
    "duration": 5,
    "start_time": "2024-08-16T23:14:33.544Z"
   },
   {
    "duration": 8,
    "start_time": "2024-08-16T23:14:33.605Z"
   },
   {
    "duration": 9,
    "start_time": "2024-08-16T23:14:33.617Z"
   },
   {
    "duration": 4,
    "start_time": "2024-08-16T23:14:33.631Z"
   },
   {
    "duration": 13,
    "start_time": "2024-08-16T23:14:33.639Z"
   },
   {
    "duration": 71,
    "start_time": "2024-08-16T23:14:33.656Z"
   },
   {
    "duration": 331,
    "start_time": "2024-08-16T23:14:33.802Z"
   },
   {
    "duration": 105,
    "start_time": "2024-08-16T23:14:34.136Z"
   },
   {
    "duration": 96670,
    "start_time": "2024-08-16T23:14:34.244Z"
   },
   {
    "duration": 13,
    "start_time": "2024-08-16T23:16:10.918Z"
   },
   {
    "duration": 208,
    "start_time": "2024-08-16T23:16:10.935Z"
   },
   {
    "duration": 0,
    "start_time": "2024-08-16T23:16:11.147Z"
   },
   {
    "duration": 0,
    "start_time": "2024-08-16T23:16:11.149Z"
   },
   {
    "duration": 61,
    "start_time": "2024-08-16T23:16:43.588Z"
   },
   {
    "duration": 248,
    "start_time": "2024-08-16T23:17:20.972Z"
   },
   {
    "duration": 92,
    "start_time": "2024-08-16T23:17:23.929Z"
   },
   {
    "duration": 10743,
    "start_time": "2024-08-16T23:17:30.282Z"
   },
   {
    "duration": 6,
    "start_time": "2024-08-16T23:18:00.989Z"
   },
   {
    "duration": 34,
    "start_time": "2024-08-16T23:18:01.000Z"
   },
   {
    "duration": 10,
    "start_time": "2024-08-16T23:18:01.038Z"
   },
   {
    "duration": 60,
    "start_time": "2024-08-16T23:18:01.054Z"
   },
   {
    "duration": 7,
    "start_time": "2024-08-16T23:18:01.117Z"
   },
   {
    "duration": 7,
    "start_time": "2024-08-16T23:18:01.127Z"
   },
   {
    "duration": 6,
    "start_time": "2024-08-16T23:18:01.137Z"
   },
   {
    "duration": 54,
    "start_time": "2024-08-16T23:18:01.148Z"
   },
   {
    "duration": 10,
    "start_time": "2024-08-16T23:18:01.205Z"
   },
   {
    "duration": 9,
    "start_time": "2024-08-16T23:18:01.221Z"
   },
   {
    "duration": 6,
    "start_time": "2024-08-16T23:18:01.233Z"
   },
   {
    "duration": 9,
    "start_time": "2024-08-16T23:18:01.242Z"
   },
   {
    "duration": 318,
    "start_time": "2024-08-16T23:18:01.303Z"
   },
   {
    "duration": 377,
    "start_time": "2024-08-16T23:18:01.625Z"
   },
   {
    "duration": 204,
    "start_time": "2024-08-16T23:18:02.005Z"
   },
   {
    "duration": 199,
    "start_time": "2024-08-16T23:18:02.213Z"
   },
   {
    "duration": 5,
    "start_time": "2024-08-16T23:18:02.417Z"
   },
   {
    "duration": 700,
    "start_time": "2024-08-16T23:18:02.426Z"
   },
   {
    "duration": 485,
    "start_time": "2024-08-16T23:18:03.129Z"
   },
   {
    "duration": 5,
    "start_time": "2024-08-16T23:18:03.617Z"
   },
   {
    "duration": 34,
    "start_time": "2024-08-16T23:18:03.626Z"
   },
   {
    "duration": 38,
    "start_time": "2024-08-16T23:18:03.663Z"
   },
   {
    "duration": 35,
    "start_time": "2024-08-16T23:18:03.706Z"
   },
   {
    "duration": 15,
    "start_time": "2024-08-16T23:18:03.744Z"
   },
   {
    "duration": 41,
    "start_time": "2024-08-16T23:18:03.761Z"
   },
   {
    "duration": 10,
    "start_time": "2024-08-16T23:18:03.806Z"
   },
   {
    "duration": 6,
    "start_time": "2024-08-16T23:18:03.819Z"
   },
   {
    "duration": 7,
    "start_time": "2024-08-16T23:18:03.834Z"
   },
   {
    "duration": 58,
    "start_time": "2024-08-16T23:18:03.844Z"
   },
   {
    "duration": 4,
    "start_time": "2024-08-16T23:18:03.906Z"
   },
   {
    "duration": 13,
    "start_time": "2024-08-16T23:18:03.914Z"
   },
   {
    "duration": 86,
    "start_time": "2024-08-16T23:18:03.932Z"
   },
   {
    "duration": 405,
    "start_time": "2024-08-16T23:18:04.021Z"
   },
   {
    "duration": 107,
    "start_time": "2024-08-16T23:18:04.429Z"
   },
   {
    "duration": 97131,
    "start_time": "2024-08-16T23:18:04.539Z"
   },
   {
    "duration": 33,
    "start_time": "2024-08-16T23:19:41.673Z"
   },
   {
    "duration": 11,
    "start_time": "2024-08-16T23:19:41.710Z"
   },
   {
    "duration": 88,
    "start_time": "2024-08-16T23:19:41.725Z"
   },
   {
    "duration": 9,
    "start_time": "2024-08-16T23:19:41.817Z"
   }
  ],
  "kernelspec": {
   "display_name": "Python 3 (ipykernel)",
   "language": "python",
   "name": "python3"
  },
  "language_info": {
   "codemirror_mode": {
    "name": "ipython",
    "version": 3
   },
   "file_extension": ".py",
   "mimetype": "text/x-python",
   "name": "python",
   "nbconvert_exporter": "python",
   "pygments_lexer": "ipython3",
   "version": "3.9.19"
  },
  "toc": {
   "base_numbering": 1,
   "nav_menu": {},
   "number_sections": true,
   "sideBar": true,
   "skip_h1_title": true,
   "title_cell": "Table of Contents",
   "title_sidebar": "Contents",
   "toc_cell": false,
   "toc_position": {},
   "toc_section_display": true,
   "toc_window_display": false
  }
 },
 "nbformat": 4,
 "nbformat_minor": 2
}
